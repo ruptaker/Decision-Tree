{
 "cells": [
  {
   "cell_type": "code",
   "execution_count": 1,
   "id": "09c1cbea",
   "metadata": {},
   "outputs": [
    {
     "name": "stderr",
     "output_type": "stream",
     "text": [
      "C:\\Users\\rups1\\anaconda3\\lib\\site-packages\\xgboost\\compat.py:31: FutureWarning: pandas.Int64Index is deprecated and will be removed from pandas in a future version. Use pandas.Index with the appropriate dtype instead.\n",
      "  from pandas import MultiIndex, Int64Index\n"
     ]
    }
   ],
   "source": [
    "import numpy as np # linear algebra\n",
    "import pandas as pd # data processing, \n",
    "import seaborn as sns\n",
    "import matplotlib.pyplot as plt\n",
    "import xgboost as xgb"
   ]
  },
  {
   "cell_type": "code",
   "execution_count": 2,
   "id": "7ab282ca",
   "metadata": {},
   "outputs": [],
   "source": [
    "train_data=pd.read_csv('train.csv')\n",
    "test_data=pd.read_csv('test.csv')"
   ]
  },
  {
   "cell_type": "code",
   "execution_count": 3,
   "id": "6e1c4f85",
   "metadata": {},
   "outputs": [
    {
     "data": {
      "text/plain": [
       "((82424, 18), (20606, 18))"
      ]
     },
     "execution_count": 3,
     "metadata": {},
     "output_type": "execute_result"
    }
   ],
   "source": [
    "train_data.shape,test_data.shape"
   ]
  },
  {
   "cell_type": "code",
   "execution_count": 4,
   "id": "b2d680ea",
   "metadata": {},
   "outputs": [
    {
     "data": {
      "text/html": [
       "<div>\n",
       "<style scoped>\n",
       "    .dataframe tbody tr th:only-of-type {\n",
       "        vertical-align: middle;\n",
       "    }\n",
       "\n",
       "    .dataframe tbody tr th {\n",
       "        vertical-align: top;\n",
       "    }\n",
       "\n",
       "    .dataframe thead th {\n",
       "        text-align: right;\n",
       "    }\n",
       "</style>\n",
       "<table border=\"1\" class=\"dataframe\">\n",
       "  <thead>\n",
       "    <tr style=\"text-align: right;\">\n",
       "      <th></th>\n",
       "      <th>Year</th>\n",
       "      <th>quarter</th>\n",
       "      <th>citymarketid_1</th>\n",
       "      <th>citymarketid_2</th>\n",
       "      <th>city1</th>\n",
       "      <th>city2</th>\n",
       "      <th>nsmiles</th>\n",
       "      <th>passengers</th>\n",
       "      <th>fare</th>\n",
       "      <th>carrier_lg</th>\n",
       "      <th>large_ms</th>\n",
       "      <th>fare_lg</th>\n",
       "      <th>carrier_low</th>\n",
       "      <th>lf_ms</th>\n",
       "      <th>fare_low</th>\n",
       "      <th>table_1_flag</th>\n",
       "      <th>Geocoded_City1</th>\n",
       "      <th>Geocoded_City2</th>\n",
       "    </tr>\n",
       "  </thead>\n",
       "  <tbody>\n",
       "    <tr>\n",
       "      <th>0</th>\n",
       "      <td>1997</td>\n",
       "      <td>2</td>\n",
       "      <td>30,194</td>\n",
       "      <td>31423</td>\n",
       "      <td>Dallas/Fort Worth, TX</td>\n",
       "      <td>Des Moines, IA</td>\n",
       "      <td>624</td>\n",
       "      <td>211</td>\n",
       "      <td>152.58</td>\n",
       "      <td>AA</td>\n",
       "      <td>0.720</td>\n",
       "      <td>150.45</td>\n",
       "      <td>NJ</td>\n",
       "      <td>0.1100</td>\n",
       "      <td>103.09</td>\n",
       "      <td>1</td>\n",
       "      <td>Dallas/Fort Worth, TX\\n(40.11086, -77.035636)</td>\n",
       "      <td>Des Moines, IA\\n(41.588822, -93.620309)</td>\n",
       "    </tr>\n",
       "    <tr>\n",
       "      <th>1</th>\n",
       "      <td>2008</td>\n",
       "      <td>3</td>\n",
       "      <td>30,529</td>\n",
       "      <td>30559</td>\n",
       "      <td>Hartford, CT</td>\n",
       "      <td>Seattle, WA</td>\n",
       "      <td>2431</td>\n",
       "      <td>262</td>\n",
       "      <td>257.30</td>\n",
       "      <td>UA</td>\n",
       "      <td>0.230</td>\n",
       "      <td>277.29</td>\n",
       "      <td>DL</td>\n",
       "      <td>0.2200</td>\n",
       "      <td>227.96</td>\n",
       "      <td>1</td>\n",
       "      <td>Hartford, CT\\n(41.765775, -72.673356)</td>\n",
       "      <td>Seattle, WA\\n(47.603229, -122.33028)</td>\n",
       "    </tr>\n",
       "    <tr>\n",
       "      <th>2</th>\n",
       "      <td>1997</td>\n",
       "      <td>1</td>\n",
       "      <td>31,295</td>\n",
       "      <td>32337</td>\n",
       "      <td>Detroit, MI</td>\n",
       "      <td>Indianapolis, IN</td>\n",
       "      <td>231</td>\n",
       "      <td>436</td>\n",
       "      <td>188.58</td>\n",
       "      <td>NW</td>\n",
       "      <td>0.880</td>\n",
       "      <td>199.77</td>\n",
       "      <td>WN</td>\n",
       "      <td>0.0700</td>\n",
       "      <td>81.81</td>\n",
       "      <td>1</td>\n",
       "      <td>Detroit, MI\\n(42.332916, -83.047853)</td>\n",
       "      <td>Indianapolis, IN\\n(39.76845, -86.156212)</td>\n",
       "    </tr>\n",
       "    <tr>\n",
       "      <th>3</th>\n",
       "      <td>2008</td>\n",
       "      <td>2</td>\n",
       "      <td>30,325</td>\n",
       "      <td>31136</td>\n",
       "      <td>Denver, CO</td>\n",
       "      <td>Jacksonville, FL</td>\n",
       "      <td>1447</td>\n",
       "      <td>237</td>\n",
       "      <td>201.27</td>\n",
       "      <td>DL</td>\n",
       "      <td>0.240</td>\n",
       "      <td>222.20</td>\n",
       "      <td>F9</td>\n",
       "      <td>0.1400</td>\n",
       "      <td>151.53</td>\n",
       "      <td>1</td>\n",
       "      <td>Denver, CO\\n(39.738453, -104.984853)</td>\n",
       "      <td>Jacksonville, FL\\n(30.325968, -81.65676)</td>\n",
       "    </tr>\n",
       "    <tr>\n",
       "      <th>4</th>\n",
       "      <td>2018</td>\n",
       "      <td>1</td>\n",
       "      <td>30,599</td>\n",
       "      <td>31703</td>\n",
       "      <td>Birmingham, AL</td>\n",
       "      <td>New York City, NY (Metropolitan Area)</td>\n",
       "      <td>902</td>\n",
       "      <td>289</td>\n",
       "      <td>279.44</td>\n",
       "      <td>DL</td>\n",
       "      <td>0.663</td>\n",
       "      <td>288.73</td>\n",
       "      <td>AA</td>\n",
       "      <td>0.2095</td>\n",
       "      <td>268.04</td>\n",
       "      <td>-1</td>\n",
       "      <td>Birmingham, AL\\n(33.522859, -86.807705)</td>\n",
       "      <td>New York City, NY (Metropolitan Area)\\n(40.123...</td>\n",
       "    </tr>\n",
       "  </tbody>\n",
       "</table>\n",
       "</div>"
      ],
      "text/plain": [
       "   Year  quarter citymarketid_1  citymarketid_2                  city1  \\\n",
       "0  1997        2         30,194           31423  Dallas/Fort Worth, TX   \n",
       "1  2008        3         30,529           30559           Hartford, CT   \n",
       "2  1997        1         31,295           32337            Detroit, MI   \n",
       "3  2008        2         30,325           31136             Denver, CO   \n",
       "4  2018        1         30,599           31703         Birmingham, AL   \n",
       "\n",
       "                                   city2  nsmiles passengers    fare  \\\n",
       "0                         Des Moines, IA      624        211  152.58   \n",
       "1                            Seattle, WA     2431        262  257.30   \n",
       "2                       Indianapolis, IN      231        436  188.58   \n",
       "3                       Jacksonville, FL     1447        237  201.27   \n",
       "4  New York City, NY (Metropolitan Area)      902        289  279.44   \n",
       "\n",
       "  carrier_lg  large_ms  fare_lg carrier_low   lf_ms  fare_low  table_1_flag  \\\n",
       "0         AA     0.720   150.45          NJ  0.1100    103.09             1   \n",
       "1         UA     0.230   277.29          DL  0.2200    227.96             1   \n",
       "2         NW     0.880   199.77          WN  0.0700     81.81             1   \n",
       "3         DL     0.240   222.20          F9  0.1400    151.53             1   \n",
       "4         DL     0.663   288.73          AA  0.2095    268.04            -1   \n",
       "\n",
       "                                  Geocoded_City1  \\\n",
       "0  Dallas/Fort Worth, TX\\n(40.11086, -77.035636)   \n",
       "1          Hartford, CT\\n(41.765775, -72.673356)   \n",
       "2           Detroit, MI\\n(42.332916, -83.047853)   \n",
       "3           Denver, CO\\n(39.738453, -104.984853)   \n",
       "4        Birmingham, AL\\n(33.522859, -86.807705)   \n",
       "\n",
       "                                      Geocoded_City2  \n",
       "0            Des Moines, IA\\n(41.588822, -93.620309)  \n",
       "1               Seattle, WA\\n(47.603229, -122.33028)  \n",
       "2           Indianapolis, IN\\n(39.76845, -86.156212)  \n",
       "3           Jacksonville, FL\\n(30.325968, -81.65676)  \n",
       "4  New York City, NY (Metropolitan Area)\\n(40.123...  "
      ]
     },
     "execution_count": 4,
     "metadata": {},
     "output_type": "execute_result"
    }
   ],
   "source": [
    "train_data.head()"
   ]
  },
  {
   "cell_type": "code",
   "execution_count": 5,
   "id": "2e2a702b",
   "metadata": {},
   "outputs": [],
   "source": [
    "dep_city = train_data['city1'].str.split(' ',expand=True)"
   ]
  },
  {
   "cell_type": "code",
   "execution_count": 6,
   "id": "710756dd",
   "metadata": {},
   "outputs": [],
   "source": [
    "train_data[['DepCity','DepCity1','DepCity2','DepCity3','DepCity4','Depcity5']] = train_data['city1'].str.split(' ',expand=True)"
   ]
  },
  {
   "cell_type": "code",
   "execution_count": 7,
   "id": "e5cddd87",
   "metadata": {},
   "outputs": [],
   "source": [
    "train_data.drop([\"citymarketid_1\",\"Geocoded_City2\",\"city1\",\"table_1_flag\",\"Geocoded_City1\",\"Geocoded_City2\"], axis = 1, inplace = True)"
   ]
  },
  {
   "cell_type": "code",
   "execution_count": 8,
   "id": "88ad24fe",
   "metadata": {},
   "outputs": [
    {
     "data": {
      "text/plain": [
       "0        D\n",
       "1        H\n",
       "2        D\n",
       "3        D\n",
       "4        B\n",
       "        ..\n",
       "82419    O\n",
       "82420    B\n",
       "82421    H\n",
       "82422    N\n",
       "82423    C\n",
       "Name: DepCity, Length: 82424, dtype: object"
      ]
     },
     "execution_count": 8,
     "metadata": {},
     "output_type": "execute_result"
    }
   ],
   "source": [
    "train_data[\"DepCity\"].str.strip(\",\").str.get(0)"
   ]
  },
  {
   "cell_type": "code",
   "execution_count": 9,
   "id": "0a97dbb3",
   "metadata": {},
   "outputs": [
    {
     "data": {
      "text/html": [
       "<div>\n",
       "<style scoped>\n",
       "    .dataframe tbody tr th:only-of-type {\n",
       "        vertical-align: middle;\n",
       "    }\n",
       "\n",
       "    .dataframe tbody tr th {\n",
       "        vertical-align: top;\n",
       "    }\n",
       "\n",
       "    .dataframe thead th {\n",
       "        text-align: right;\n",
       "    }\n",
       "</style>\n",
       "<table border=\"1\" class=\"dataframe\">\n",
       "  <thead>\n",
       "    <tr style=\"text-align: right;\">\n",
       "      <th></th>\n",
       "      <th>Year</th>\n",
       "      <th>quarter</th>\n",
       "      <th>citymarketid_2</th>\n",
       "      <th>city2</th>\n",
       "      <th>nsmiles</th>\n",
       "      <th>passengers</th>\n",
       "      <th>fare</th>\n",
       "      <th>carrier_lg</th>\n",
       "      <th>large_ms</th>\n",
       "      <th>fare_lg</th>\n",
       "      <th>carrier_low</th>\n",
       "      <th>lf_ms</th>\n",
       "      <th>fare_low</th>\n",
       "      <th>DepCity</th>\n",
       "      <th>DepCity1</th>\n",
       "      <th>DepCity2</th>\n",
       "      <th>DepCity3</th>\n",
       "      <th>DepCity4</th>\n",
       "      <th>Depcity5</th>\n",
       "    </tr>\n",
       "  </thead>\n",
       "  <tbody>\n",
       "    <tr>\n",
       "      <th>0</th>\n",
       "      <td>1997</td>\n",
       "      <td>2</td>\n",
       "      <td>31423</td>\n",
       "      <td>Des Moines, IA</td>\n",
       "      <td>624</td>\n",
       "      <td>211</td>\n",
       "      <td>152.58</td>\n",
       "      <td>AA</td>\n",
       "      <td>0.7200</td>\n",
       "      <td>150.45</td>\n",
       "      <td>NJ</td>\n",
       "      <td>0.1100</td>\n",
       "      <td>103.09</td>\n",
       "      <td>Dallas/Fort</td>\n",
       "      <td>Worth,</td>\n",
       "      <td>TX</td>\n",
       "      <td>None</td>\n",
       "      <td>None</td>\n",
       "      <td>None</td>\n",
       "    </tr>\n",
       "    <tr>\n",
       "      <th>1</th>\n",
       "      <td>2008</td>\n",
       "      <td>3</td>\n",
       "      <td>30559</td>\n",
       "      <td>Seattle, WA</td>\n",
       "      <td>2431</td>\n",
       "      <td>262</td>\n",
       "      <td>257.30</td>\n",
       "      <td>UA</td>\n",
       "      <td>0.2300</td>\n",
       "      <td>277.29</td>\n",
       "      <td>DL</td>\n",
       "      <td>0.2200</td>\n",
       "      <td>227.96</td>\n",
       "      <td>Hartford,</td>\n",
       "      <td>CT</td>\n",
       "      <td>None</td>\n",
       "      <td>None</td>\n",
       "      <td>None</td>\n",
       "      <td>None</td>\n",
       "    </tr>\n",
       "    <tr>\n",
       "      <th>2</th>\n",
       "      <td>1997</td>\n",
       "      <td>1</td>\n",
       "      <td>32337</td>\n",
       "      <td>Indianapolis, IN</td>\n",
       "      <td>231</td>\n",
       "      <td>436</td>\n",
       "      <td>188.58</td>\n",
       "      <td>NW</td>\n",
       "      <td>0.8800</td>\n",
       "      <td>199.77</td>\n",
       "      <td>WN</td>\n",
       "      <td>0.0700</td>\n",
       "      <td>81.81</td>\n",
       "      <td>Detroit,</td>\n",
       "      <td>MI</td>\n",
       "      <td>None</td>\n",
       "      <td>None</td>\n",
       "      <td>None</td>\n",
       "      <td>None</td>\n",
       "    </tr>\n",
       "    <tr>\n",
       "      <th>3</th>\n",
       "      <td>2008</td>\n",
       "      <td>2</td>\n",
       "      <td>31136</td>\n",
       "      <td>Jacksonville, FL</td>\n",
       "      <td>1447</td>\n",
       "      <td>237</td>\n",
       "      <td>201.27</td>\n",
       "      <td>DL</td>\n",
       "      <td>0.2400</td>\n",
       "      <td>222.20</td>\n",
       "      <td>F9</td>\n",
       "      <td>0.1400</td>\n",
       "      <td>151.53</td>\n",
       "      <td>Denver,</td>\n",
       "      <td>CO</td>\n",
       "      <td>None</td>\n",
       "      <td>None</td>\n",
       "      <td>None</td>\n",
       "      <td>None</td>\n",
       "    </tr>\n",
       "    <tr>\n",
       "      <th>4</th>\n",
       "      <td>2018</td>\n",
       "      <td>1</td>\n",
       "      <td>31703</td>\n",
       "      <td>New York City, NY (Metropolitan Area)</td>\n",
       "      <td>902</td>\n",
       "      <td>289</td>\n",
       "      <td>279.44</td>\n",
       "      <td>DL</td>\n",
       "      <td>0.6630</td>\n",
       "      <td>288.73</td>\n",
       "      <td>AA</td>\n",
       "      <td>0.2095</td>\n",
       "      <td>268.04</td>\n",
       "      <td>Birmingham,</td>\n",
       "      <td>AL</td>\n",
       "      <td>None</td>\n",
       "      <td>None</td>\n",
       "      <td>None</td>\n",
       "      <td>None</td>\n",
       "    </tr>\n",
       "    <tr>\n",
       "      <th>...</th>\n",
       "      <td>...</td>\n",
       "      <td>...</td>\n",
       "      <td>...</td>\n",
       "      <td>...</td>\n",
       "      <td>...</td>\n",
       "      <td>...</td>\n",
       "      <td>...</td>\n",
       "      <td>...</td>\n",
       "      <td>...</td>\n",
       "      <td>...</td>\n",
       "      <td>...</td>\n",
       "      <td>...</td>\n",
       "      <td>...</td>\n",
       "      <td>...</td>\n",
       "      <td>...</td>\n",
       "      <td>...</td>\n",
       "      <td>...</td>\n",
       "      <td>...</td>\n",
       "      <td>...</td>\n",
       "    </tr>\n",
       "    <tr>\n",
       "      <th>82419</th>\n",
       "      <td>2021</td>\n",
       "      <td>2</td>\n",
       "      <td>30559</td>\n",
       "      <td>Seattle, WA</td>\n",
       "      <td>2554</td>\n",
       "      <td>886</td>\n",
       "      <td>225.69</td>\n",
       "      <td>AS</td>\n",
       "      <td>0.4305</td>\n",
       "      <td>231.11</td>\n",
       "      <td>AS</td>\n",
       "      <td>0.4305</td>\n",
       "      <td>231.11</td>\n",
       "      <td>Orlando,</td>\n",
       "      <td>FL</td>\n",
       "      <td>None</td>\n",
       "      <td>None</td>\n",
       "      <td>None</td>\n",
       "      <td>None</td>\n",
       "    </tr>\n",
       "    <tr>\n",
       "      <th>82420</th>\n",
       "      <td>2014</td>\n",
       "      <td>4</td>\n",
       "      <td>31884</td>\n",
       "      <td>Spokane, WA</td>\n",
       "      <td>287</td>\n",
       "      <td>278</td>\n",
       "      <td>135.57</td>\n",
       "      <td>WN</td>\n",
       "      <td>0.9200</td>\n",
       "      <td>129.27</td>\n",
       "      <td>WN</td>\n",
       "      <td>0.9200</td>\n",
       "      <td>129.27</td>\n",
       "      <td>Boise,</td>\n",
       "      <td>ID</td>\n",
       "      <td>None</td>\n",
       "      <td>None</td>\n",
       "      <td>None</td>\n",
       "      <td>None</td>\n",
       "    </tr>\n",
       "    <tr>\n",
       "      <th>82421</th>\n",
       "      <td>2013</td>\n",
       "      <td>3</td>\n",
       "      <td>30198</td>\n",
       "      <td>Pittsburgh, PA</td>\n",
       "      <td>1131</td>\n",
       "      <td>581</td>\n",
       "      <td>310.65</td>\n",
       "      <td>UA</td>\n",
       "      <td>0.5700</td>\n",
       "      <td>344.72</td>\n",
       "      <td>WN</td>\n",
       "      <td>0.2300</td>\n",
       "      <td>247.17</td>\n",
       "      <td>Houston,</td>\n",
       "      <td>TX</td>\n",
       "      <td>None</td>\n",
       "      <td>None</td>\n",
       "      <td>None</td>\n",
       "      <td>None</td>\n",
       "    </tr>\n",
       "    <tr>\n",
       "      <th>82422</th>\n",
       "      <td>2003</td>\n",
       "      <td>1</td>\n",
       "      <td>34576</td>\n",
       "      <td>Rochester, NY</td>\n",
       "      <td>285</td>\n",
       "      <td>832</td>\n",
       "      <td>103.20</td>\n",
       "      <td>B6</td>\n",
       "      <td>0.6400</td>\n",
       "      <td>78.93</td>\n",
       "      <td>B6</td>\n",
       "      <td>0.6400</td>\n",
       "      <td>78.93</td>\n",
       "      <td>New</td>\n",
       "      <td>York</td>\n",
       "      <td>City,</td>\n",
       "      <td>NY</td>\n",
       "      <td>(Metropolitan</td>\n",
       "      <td>Area)</td>\n",
       "    </tr>\n",
       "    <tr>\n",
       "      <th>82423</th>\n",
       "      <td>2021</td>\n",
       "      <td>1</td>\n",
       "      <td>32457</td>\n",
       "      <td>San Francisco, CA (Metropolitan Area)</td>\n",
       "      <td>1855</td>\n",
       "      <td>809</td>\n",
       "      <td>174.58</td>\n",
       "      <td>UA</td>\n",
       "      <td>0.5266</td>\n",
       "      <td>185.52</td>\n",
       "      <td>WN</td>\n",
       "      <td>0.2519</td>\n",
       "      <td>149.53</td>\n",
       "      <td>Chicago,</td>\n",
       "      <td>IL</td>\n",
       "      <td>None</td>\n",
       "      <td>None</td>\n",
       "      <td>None</td>\n",
       "      <td>None</td>\n",
       "    </tr>\n",
       "  </tbody>\n",
       "</table>\n",
       "<p>82424 rows × 19 columns</p>\n",
       "</div>"
      ],
      "text/plain": [
       "       Year  quarter  citymarketid_2                                  city2  \\\n",
       "0      1997        2           31423                         Des Moines, IA   \n",
       "1      2008        3           30559                            Seattle, WA   \n",
       "2      1997        1           32337                       Indianapolis, IN   \n",
       "3      2008        2           31136                       Jacksonville, FL   \n",
       "4      2018        1           31703  New York City, NY (Metropolitan Area)   \n",
       "...     ...      ...             ...                                    ...   \n",
       "82419  2021        2           30559                            Seattle, WA   \n",
       "82420  2014        4           31884                            Spokane, WA   \n",
       "82421  2013        3           30198                         Pittsburgh, PA   \n",
       "82422  2003        1           34576                          Rochester, NY   \n",
       "82423  2021        1           32457  San Francisco, CA (Metropolitan Area)   \n",
       "\n",
       "       nsmiles passengers    fare carrier_lg  large_ms  fare_lg carrier_low  \\\n",
       "0          624        211  152.58         AA    0.7200   150.45          NJ   \n",
       "1         2431        262  257.30         UA    0.2300   277.29          DL   \n",
       "2          231        436  188.58         NW    0.8800   199.77          WN   \n",
       "3         1447        237  201.27         DL    0.2400   222.20          F9   \n",
       "4          902        289  279.44         DL    0.6630   288.73          AA   \n",
       "...        ...        ...     ...        ...       ...      ...         ...   \n",
       "82419     2554        886  225.69         AS    0.4305   231.11          AS   \n",
       "82420      287        278  135.57         WN    0.9200   129.27          WN   \n",
       "82421     1131        581  310.65         UA    0.5700   344.72          WN   \n",
       "82422      285        832  103.20         B6    0.6400    78.93          B6   \n",
       "82423     1855        809  174.58         UA    0.5266   185.52          WN   \n",
       "\n",
       "        lf_ms  fare_low      DepCity DepCity1 DepCity2 DepCity3  \\\n",
       "0      0.1100    103.09  Dallas/Fort   Worth,       TX     None   \n",
       "1      0.2200    227.96    Hartford,       CT     None     None   \n",
       "2      0.0700     81.81     Detroit,       MI     None     None   \n",
       "3      0.1400    151.53      Denver,       CO     None     None   \n",
       "4      0.2095    268.04  Birmingham,       AL     None     None   \n",
       "...       ...       ...          ...      ...      ...      ...   \n",
       "82419  0.4305    231.11     Orlando,       FL     None     None   \n",
       "82420  0.9200    129.27       Boise,       ID     None     None   \n",
       "82421  0.2300    247.17     Houston,       TX     None     None   \n",
       "82422  0.6400     78.93          New     York    City,       NY   \n",
       "82423  0.2519    149.53     Chicago,       IL     None     None   \n",
       "\n",
       "            DepCity4 Depcity5  \n",
       "0               None     None  \n",
       "1               None     None  \n",
       "2               None     None  \n",
       "3               None     None  \n",
       "4               None     None  \n",
       "...              ...      ...  \n",
       "82419           None     None  \n",
       "82420           None     None  \n",
       "82421           None     None  \n",
       "82422  (Metropolitan    Area)  \n",
       "82423           None     None  \n",
       "\n",
       "[82424 rows x 19 columns]"
      ]
     },
     "execution_count": 9,
     "metadata": {},
     "output_type": "execute_result"
    }
   ],
   "source": [
    "train_data"
   ]
  },
  {
   "cell_type": "code",
   "execution_count": 10,
   "id": "7a881fa3",
   "metadata": {},
   "outputs": [],
   "source": [
    "train_data.drop([\"citymarketid_2\"], axis = 1, inplace = True)"
   ]
  },
  {
   "cell_type": "code",
   "execution_count": 11,
   "id": "a99bfbe2",
   "metadata": {},
   "outputs": [],
   "source": [
    "train_data.drop([\"DepCity1\",\"DepCity2\",\"DepCity3\",\"DepCity4\",\"Depcity5\"], axis = 1, inplace = True)"
   ]
  },
  {
   "cell_type": "code",
   "execution_count": 12,
   "id": "0fc98933",
   "metadata": {},
   "outputs": [
    {
     "data": {
      "text/plain": [
       "0        D\n",
       "1        H\n",
       "2        D\n",
       "3        D\n",
       "4        B\n",
       "        ..\n",
       "82419    O\n",
       "82420    B\n",
       "82421    H\n",
       "82422    N\n",
       "82423    C\n",
       "Name: DepCity, Length: 82424, dtype: object"
      ]
     },
     "execution_count": 12,
     "metadata": {},
     "output_type": "execute_result"
    }
   ],
   "source": [
    "train_data[\"DepCity\"].str.strip(\",\").str.get(0)"
   ]
  },
  {
   "cell_type": "code",
   "execution_count": 13,
   "id": "1de4344d",
   "metadata": {},
   "outputs": [],
   "source": [
    "train_data[['ArrivalCity','DepCity1','DepCity2','DepCity3','DepCity4','Depcity5']] = train_data['city2'].str.split(' ',expand=True)"
   ]
  },
  {
   "cell_type": "code",
   "execution_count": 14,
   "id": "9cf3c4fe",
   "metadata": {},
   "outputs": [],
   "source": [
    "train_data['DepCity'] = train_data['DepCity'].str.replace(r\",\",'')"
   ]
  },
  {
   "cell_type": "code",
   "execution_count": 15,
   "id": "881e2158",
   "metadata": {},
   "outputs": [],
   "source": [
    "train_data['DepCity'] = train_data['DepCity'].str.replace(r\"/\",'')"
   ]
  },
  {
   "cell_type": "code",
   "execution_count": 16,
   "id": "45e7c56d",
   "metadata": {},
   "outputs": [],
   "source": [
    "\n",
    "train_data['ArrivalCity'] = train_data['ArrivalCity'].str.replace(r\",\",'')"
   ]
  },
  {
   "cell_type": "code",
   "execution_count": 17,
   "id": "87745c03",
   "metadata": {},
   "outputs": [],
   "source": [
    "train_data['ArrivalCity'] = train_data['ArrivalCity'].str.replace(r\"/\",'')"
   ]
  },
  {
   "cell_type": "code",
   "execution_count": 18,
   "id": "c0109615",
   "metadata": {},
   "outputs": [],
   "source": [
    "train_data['passengers'] = train_data['passengers'].str.replace(r\",\",'')"
   ]
  },
  {
   "cell_type": "code",
   "execution_count": 19,
   "id": "e5906d24",
   "metadata": {},
   "outputs": [],
   "source": [
    "train_data.drop([\"DepCity1\",\"DepCity2\",\"DepCity3\",\"DepCity4\",\"Depcity5\"], axis = 1, inplace = True)"
   ]
  },
  {
   "cell_type": "code",
   "execution_count": 20,
   "id": "96bec24b",
   "metadata": {},
   "outputs": [],
   "source": [
    "train_data.drop([\"city2\",\"large_ms\",\"fare_lg\",\"carrier_low\",\"fare_low\", \"lf_ms\"], axis = 1, inplace = True)"
   ]
  },
  {
   "cell_type": "code",
   "execution_count": 21,
   "id": "1c65fe6b",
   "metadata": {},
   "outputs": [],
   "source": [
    "# Airline\n",
    "train_data[\"carrier_lg\"].replace({'KW':'Other', \n",
    "                                                        'n7':'Other',\n",
    "                                                        'DH':'Other',\n",
    "                                                        'RP':'Other',\n",
    "                                                         'KP':'Other',\n",
    "                                                        'PN':'Other',\n",
    "                                                        'T3':'Other',\n",
    "                                                        'ZA':'Other',\n",
    "                                                        'XJ':'Other',\n",
    "                                                        '9N':'Other'\n",
    "                                  \n",
    "                                                   },    \n",
    "                                        inplace=True)"
   ]
  },
  {
   "cell_type": "code",
   "execution_count": 22,
   "id": "95c55a3a",
   "metadata": {},
   "outputs": [
    {
     "data": {
      "text/plain": [
       "WN       22178\n",
       "DL       14604\n",
       "AA       11489\n",
       "UA        7466\n",
       "US        7150\n",
       "NW        4277\n",
       "CO        3327\n",
       "AS        2744\n",
       "B6        1860\n",
       "FL        1381\n",
       "G4        1338\n",
       "F9         861\n",
       "HP         766\n",
       "TW         704\n",
       "NK         703\n",
       "YX         685\n",
       "TZ         293\n",
       "JI         148\n",
       "QQ          92\n",
       "SY          80\n",
       "W7          66\n",
       "Other       32\n",
       "NJ          31\n",
       "U5          25\n",
       "WV          24\n",
       "QX          20\n",
       "RU          18\n",
       "W9          15\n",
       "N7          13\n",
       "YV          11\n",
       "J7           8\n",
       "ZW           8\n",
       "SX           6\n",
       "VX           1\n",
       "Name: carrier_lg, dtype: int64"
      ]
     },
     "execution_count": 22,
     "metadata": {},
     "output_type": "execute_result"
    }
   ],
   "source": [
    "train_data[\"carrier_lg\"].value_counts()"
   ]
  },
  {
   "cell_type": "code",
   "execution_count": 23,
   "id": "ecf4a72a",
   "metadata": {},
   "outputs": [],
   "source": [
    "# Airline\n",
    "train_data[\"carrier_lg\"].replace({'NJ':'Other', \n",
    "                                                        'U5':'Other',\n",
    "                                                        'WV':'Other',\n",
    "                                                        'QX':'Other',\n",
    "                                                         'RU':'Other',\n",
    "                                                        'W9':'Other',\n",
    "                                                        'N7':'Other',\n",
    "                                                        'YV':'Other',\n",
    "                                                        'J7':'Other',\n",
    "                                   'SX':'Other',\n",
    "                                                        'VX':'Other',\n",
    "                                                        'ZW':'Other'\n",
    "                                  \n",
    "                                                   },    \n",
    "                                        inplace=True)"
   ]
  },
  {
   "cell_type": "code",
   "execution_count": 24,
   "id": "217fb6f4",
   "metadata": {},
   "outputs": [
    {
     "data": {
      "text/plain": [
       "WN       22178\n",
       "DL       14604\n",
       "AA       11489\n",
       "UA        7466\n",
       "US        7150\n",
       "NW        4277\n",
       "CO        3327\n",
       "AS        2744\n",
       "B6        1860\n",
       "FL        1381\n",
       "G4        1338\n",
       "F9         861\n",
       "HP         766\n",
       "TW         704\n",
       "NK         703\n",
       "YX         685\n",
       "TZ         293\n",
       "Other      212\n",
       "JI         148\n",
       "QQ          92\n",
       "SY          80\n",
       "W7          66\n",
       "Name: carrier_lg, dtype: int64"
      ]
     },
     "execution_count": 24,
     "metadata": {},
     "output_type": "execute_result"
    }
   ],
   "source": [
    "train_data[\"carrier_lg\"].value_counts()"
   ]
  },
  {
   "cell_type": "code",
   "execution_count": 25,
   "id": "b8a760cd",
   "metadata": {},
   "outputs": [
    {
     "data": {
      "text/plain": [
       "WN       22178\n",
       "DL       14604\n",
       "AA       11489\n",
       "UA        7466\n",
       "US        7150\n",
       "NW        4277\n",
       "CO        3327\n",
       "AS        2744\n",
       "B6        1860\n",
       "FL        1381\n",
       "G4        1338\n",
       "F9         861\n",
       "HP         766\n",
       "TW         704\n",
       "NK         703\n",
       "YX         685\n",
       "TZ         293\n",
       "Other      212\n",
       "JI         148\n",
       "QQ          92\n",
       "SY          80\n",
       "W7          66\n",
       "Name: carrier_lg, dtype: int64"
      ]
     },
     "execution_count": 25,
     "metadata": {},
     "output_type": "execute_result"
    }
   ],
   "source": [
    "train_data[\"carrier_lg\"].value_counts()"
   ]
  },
  {
   "cell_type": "code",
   "execution_count": 26,
   "id": "aeb0762c",
   "metadata": {},
   "outputs": [
    {
     "data": {
      "text/plain": [
       "Atlanta            4751\n",
       "Chicago            4548\n",
       "DallasFort         4179\n",
       "Boston             4053\n",
       "New                3421\n",
       "                   ... \n",
       "Portsmouth            1\n",
       "Hilton                1\n",
       "Ashland               1\n",
       "Sioux                 1\n",
       "Charlottesville       1\n",
       "Name: DepCity, Length: 142, dtype: int64"
      ]
     },
     "execution_count": 26,
     "metadata": {},
     "output_type": "execute_result"
    }
   ],
   "source": [
    "train_data[\"DepCity\"].value_counts()"
   ]
  },
  {
   "cell_type": "code",
   "execution_count": 27,
   "id": "7012e9f4",
   "metadata": {},
   "outputs": [],
   "source": [
    "train_data.drop([\"nsmiles\",\"passengers\"], axis = 1, inplace = True)"
   ]
  },
  {
   "cell_type": "code",
   "execution_count": 28,
   "id": "22f20ca9",
   "metadata": {},
   "outputs": [
    {
     "data": {
      "text/plain": [
       "San              8509\n",
       "Washington       5617\n",
       "New              4891\n",
       "Tampa            3723\n",
       "Seattle          3279\n",
       "                 ... \n",
       "Kalispell           1\n",
       "SaginawBay          1\n",
       "Lincoln             1\n",
       "Shreveport          1\n",
       "MontroseDelta       1\n",
       "Name: ArrivalCity, Length: 127, dtype: int64"
      ]
     },
     "execution_count": 28,
     "metadata": {},
     "output_type": "execute_result"
    }
   ],
   "source": [
    "train_data[\"ArrivalCity\"].value_counts()"
   ]
  },
  {
   "cell_type": "code",
   "execution_count": 29,
   "id": "74512394",
   "metadata": {},
   "outputs": [
    {
     "data": {
      "text/html": [
       "<div>\n",
       "<style scoped>\n",
       "    .dataframe tbody tr th:only-of-type {\n",
       "        vertical-align: middle;\n",
       "    }\n",
       "\n",
       "    .dataframe tbody tr th {\n",
       "        vertical-align: top;\n",
       "    }\n",
       "\n",
       "    .dataframe thead th {\n",
       "        text-align: right;\n",
       "    }\n",
       "</style>\n",
       "<table border=\"1\" class=\"dataframe\">\n",
       "  <thead>\n",
       "    <tr style=\"text-align: right;\">\n",
       "      <th></th>\n",
       "      <th>Year</th>\n",
       "      <th>quarter</th>\n",
       "      <th>fare</th>\n",
       "      <th>carrier_lg</th>\n",
       "      <th>DepCity</th>\n",
       "      <th>ArrivalCity</th>\n",
       "    </tr>\n",
       "  </thead>\n",
       "  <tbody>\n",
       "    <tr>\n",
       "      <th>0</th>\n",
       "      <td>1997</td>\n",
       "      <td>2</td>\n",
       "      <td>152.58</td>\n",
       "      <td>AA</td>\n",
       "      <td>DallasFort</td>\n",
       "      <td>Des</td>\n",
       "    </tr>\n",
       "    <tr>\n",
       "      <th>1</th>\n",
       "      <td>2008</td>\n",
       "      <td>3</td>\n",
       "      <td>257.30</td>\n",
       "      <td>UA</td>\n",
       "      <td>Hartford</td>\n",
       "      <td>Seattle</td>\n",
       "    </tr>\n",
       "    <tr>\n",
       "      <th>2</th>\n",
       "      <td>1997</td>\n",
       "      <td>1</td>\n",
       "      <td>188.58</td>\n",
       "      <td>NW</td>\n",
       "      <td>Detroit</td>\n",
       "      <td>Indianapolis</td>\n",
       "    </tr>\n",
       "    <tr>\n",
       "      <th>3</th>\n",
       "      <td>2008</td>\n",
       "      <td>2</td>\n",
       "      <td>201.27</td>\n",
       "      <td>DL</td>\n",
       "      <td>Denver</td>\n",
       "      <td>Jacksonville</td>\n",
       "    </tr>\n",
       "    <tr>\n",
       "      <th>4</th>\n",
       "      <td>2018</td>\n",
       "      <td>1</td>\n",
       "      <td>279.44</td>\n",
       "      <td>DL</td>\n",
       "      <td>Birmingham</td>\n",
       "      <td>New</td>\n",
       "    </tr>\n",
       "    <tr>\n",
       "      <th>...</th>\n",
       "      <td>...</td>\n",
       "      <td>...</td>\n",
       "      <td>...</td>\n",
       "      <td>...</td>\n",
       "      <td>...</td>\n",
       "      <td>...</td>\n",
       "    </tr>\n",
       "    <tr>\n",
       "      <th>82419</th>\n",
       "      <td>2021</td>\n",
       "      <td>2</td>\n",
       "      <td>225.69</td>\n",
       "      <td>AS</td>\n",
       "      <td>Orlando</td>\n",
       "      <td>Seattle</td>\n",
       "    </tr>\n",
       "    <tr>\n",
       "      <th>82420</th>\n",
       "      <td>2014</td>\n",
       "      <td>4</td>\n",
       "      <td>135.57</td>\n",
       "      <td>WN</td>\n",
       "      <td>Boise</td>\n",
       "      <td>Spokane</td>\n",
       "    </tr>\n",
       "    <tr>\n",
       "      <th>82421</th>\n",
       "      <td>2013</td>\n",
       "      <td>3</td>\n",
       "      <td>310.65</td>\n",
       "      <td>UA</td>\n",
       "      <td>Houston</td>\n",
       "      <td>Pittsburgh</td>\n",
       "    </tr>\n",
       "    <tr>\n",
       "      <th>82422</th>\n",
       "      <td>2003</td>\n",
       "      <td>1</td>\n",
       "      <td>103.20</td>\n",
       "      <td>B6</td>\n",
       "      <td>New</td>\n",
       "      <td>Rochester</td>\n",
       "    </tr>\n",
       "    <tr>\n",
       "      <th>82423</th>\n",
       "      <td>2021</td>\n",
       "      <td>1</td>\n",
       "      <td>174.58</td>\n",
       "      <td>UA</td>\n",
       "      <td>Chicago</td>\n",
       "      <td>San</td>\n",
       "    </tr>\n",
       "  </tbody>\n",
       "</table>\n",
       "<p>82424 rows × 6 columns</p>\n",
       "</div>"
      ],
      "text/plain": [
       "       Year  quarter    fare carrier_lg     DepCity   ArrivalCity\n",
       "0      1997        2  152.58         AA  DallasFort           Des\n",
       "1      2008        3  257.30         UA    Hartford       Seattle\n",
       "2      1997        1  188.58         NW     Detroit  Indianapolis\n",
       "3      2008        2  201.27         DL      Denver  Jacksonville\n",
       "4      2018        1  279.44         DL  Birmingham           New\n",
       "...     ...      ...     ...        ...         ...           ...\n",
       "82419  2021        2  225.69         AS     Orlando       Seattle\n",
       "82420  2014        4  135.57         WN       Boise       Spokane\n",
       "82421  2013        3  310.65         UA     Houston    Pittsburgh\n",
       "82422  2003        1  103.20         B6         New     Rochester\n",
       "82423  2021        1  174.58         UA     Chicago           San\n",
       "\n",
       "[82424 rows x 6 columns]"
      ]
     },
     "execution_count": 29,
     "metadata": {},
     "output_type": "execute_result"
    }
   ],
   "source": [
    "train_data\n"
   ]
  },
  {
   "cell_type": "code",
   "execution_count": 30,
   "id": "5e42260e",
   "metadata": {},
   "outputs": [
    {
     "data": {
      "text/plain": [
       "Atlanta            4751\n",
       "Chicago            4548\n",
       "DallasFort         4179\n",
       "Boston             4053\n",
       "New                3421\n",
       "                   ... \n",
       "Portsmouth            1\n",
       "Hilton                1\n",
       "Ashland               1\n",
       "Sioux                 1\n",
       "Charlottesville       1\n",
       "Name: DepCity, Length: 142, dtype: int64"
      ]
     },
     "execution_count": 30,
     "metadata": {},
     "output_type": "execute_result"
    }
   ],
   "source": [
    "train_data[\"DepCity\"].value_counts()"
   ]
  },
  {
   "cell_type": "code",
   "execution_count": 31,
   "id": "cd0002f4",
   "metadata": {},
   "outputs": [
    {
     "data": {
      "text/plain": [
       "Charlottesville       1\n",
       "Ashland               1\n",
       "Hilton                1\n",
       "Portsmouth            1\n",
       "Sioux                 1\n",
       "                   ... \n",
       "New                3421\n",
       "Boston             4053\n",
       "DallasFort         4179\n",
       "Chicago            4548\n",
       "Atlanta            4751\n",
       "Name: DepCity, Length: 142, dtype: int64"
      ]
     },
     "execution_count": 31,
     "metadata": {},
     "output_type": "execute_result"
    }
   ],
   "source": [
    "train_data[\"DepCity\"].value_counts(ascending=True)"
   ]
  },
  {
   "cell_type": "code",
   "execution_count": 32,
   "id": "4d39f6e5",
   "metadata": {},
   "outputs": [
    {
     "data": {
      "text/plain": [
       "Sacramento         478\n",
       "Colorado           475\n",
       "Pittsburgh         463\n",
       "Dayton             460\n",
       "Norfolk            448\n",
       "                  ... \n",
       "Portsmouth           1\n",
       "Hilton               1\n",
       "Ashland              1\n",
       "Sioux                1\n",
       "Charlottesville      1\n",
       "Name: DepCity, Length: 101, dtype: int64"
      ]
     },
     "execution_count": 32,
     "metadata": {},
     "output_type": "execute_result"
    }
   ],
   "source": [
    "train_data[\"DepCity\"].value_counts().loc[lambda x : x < 500]"
   ]
  },
  {
   "cell_type": "code",
   "execution_count": 33,
   "id": "092e152d",
   "metadata": {},
   "outputs": [],
   "source": [
    "value_counts = train_data['DepCity'].value_counts()"
   ]
  },
  {
   "cell_type": "code",
   "execution_count": 34,
   "id": "efcb312f",
   "metadata": {},
   "outputs": [],
   "source": [
    "to_remove = value_counts[value_counts <= 1000].index"
   ]
  },
  {
   "cell_type": "code",
   "execution_count": 35,
   "id": "a56aaed7",
   "metadata": {},
   "outputs": [],
   "source": [
    "train_data = train_data[~train_data.DepCity.isin(to_remove)]"
   ]
  },
  {
   "cell_type": "code",
   "execution_count": 36,
   "id": "b64f030a",
   "metadata": {},
   "outputs": [
    {
     "data": {
      "text/plain": [
       "Atlanta           4751\n",
       "Chicago           4548\n",
       "DallasFort        4179\n",
       "Boston            4053\n",
       "New               3421\n",
       "Denver            3359\n",
       "Houston           2984\n",
       "Las               2866\n",
       "Los               2834\n",
       "Detroit           2437\n",
       "Charlotte         2375\n",
       "Austin            2280\n",
       "Miami             1987\n",
       "Cleveland         1931\n",
       "Kansas            1832\n",
       "San               1609\n",
       "Albuquerque       1598\n",
       "MinneapolisSt.    1580\n",
       "Columbus          1576\n",
       "Orlando           1460\n",
       "Indianapolis      1383\n",
       "Cincinnati        1317\n",
       "Phoenix           1304\n",
       "Hartford          1244\n",
       "Nashville         1198\n",
       "Philadelphia      1069\n",
       "Buffalo           1048\n",
       "Name: DepCity, dtype: int64"
      ]
     },
     "execution_count": 36,
     "metadata": {},
     "output_type": "execute_result"
    }
   ],
   "source": [
    "\n",
    "train_data[\"DepCity\"].value_counts().loc[lambda x : x > 100]"
   ]
  },
  {
   "cell_type": "code",
   "execution_count": 37,
   "id": "7b9d350d",
   "metadata": {},
   "outputs": [
    {
     "data": {
      "text/plain": [
       "Kansas           915\n",
       "West             897\n",
       "Milwaukee        851\n",
       "Denver           834\n",
       "Norfolk          809\n",
       "                ... \n",
       "Traverse           1\n",
       "SaginawBay         1\n",
       "Lincoln            1\n",
       "Shreveport         1\n",
       "MontroseDelta      1\n",
       "Name: ArrivalCity, Length: 107, dtype: int64"
      ]
     },
     "execution_count": 37,
     "metadata": {},
     "output_type": "execute_result"
    }
   ],
   "source": [
    "train_data['ArrivalCity'].value_counts().loc[lambda x : x < 1000]"
   ]
  },
  {
   "cell_type": "code",
   "execution_count": 38,
   "id": "c31493b8",
   "metadata": {},
   "outputs": [],
   "source": [
    "value_counts1 = train_data['ArrivalCity'].value_counts()"
   ]
  },
  {
   "cell_type": "code",
   "execution_count": 39,
   "id": "d22dd118",
   "metadata": {},
   "outputs": [],
   "source": [
    "to_remove1 = value_counts1[value_counts1 <= 1000].index"
   ]
  },
  {
   "cell_type": "code",
   "execution_count": 40,
   "id": "472f3da0",
   "metadata": {},
   "outputs": [],
   "source": [
    "train_data = train_data[~train_data.ArrivalCity.isin(to_remove1)]"
   ]
  },
  {
   "cell_type": "code",
   "execution_count": 41,
   "id": "aa6e6873",
   "metadata": {},
   "outputs": [
    {
     "data": {
      "text/plain": [
       "San               5951\n",
       "New               3096\n",
       "Washington        2392\n",
       "Seattle           2266\n",
       "Tampa             2245\n",
       "Phoenix           2053\n",
       "St.               2031\n",
       "Orlando           1978\n",
       "Portland          1783\n",
       "RaleighDurham     1743\n",
       "Philadelphia      1738\n",
       "Salt              1557\n",
       "MinneapolisSt.    1528\n",
       "Los               1497\n",
       "Miami             1478\n",
       "Las               1394\n",
       "Pittsburgh        1381\n",
       "Nashville         1282\n",
       "Sacramento        1258\n",
       "Houston           1067\n",
       "Name: ArrivalCity, dtype: int64"
      ]
     },
     "execution_count": 41,
     "metadata": {},
     "output_type": "execute_result"
    }
   ],
   "source": [
    "train_data['ArrivalCity'].value_counts().loc[lambda x : x > 100]"
   ]
  },
  {
   "cell_type": "code",
   "execution_count": 42,
   "id": "3e23949c",
   "metadata": {},
   "outputs": [
    {
     "data": {
      "text/plain": [
       "New               2327\n",
       "Boston            1910\n",
       "Denver            1901\n",
       "DallasFort        1895\n",
       "Chicago           1885\n",
       "Atlanta           1882\n",
       "Houston           1819\n",
       "Detroit           1748\n",
       "Las               1719\n",
       "Kansas            1692\n",
       "Los               1580\n",
       "Austin            1567\n",
       "Miami             1531\n",
       "Charlotte         1482\n",
       "MinneapolisSt.    1467\n",
       "Cleveland         1426\n",
       "Columbus          1295\n",
       "Indianapolis      1210\n",
       "San               1203\n",
       "Nashville         1145\n",
       "Orlando           1130\n",
       "Hartford          1119\n",
       "Albuquerque       1078\n",
       "Cincinnati        1023\n",
       "Phoenix            984\n",
       "Philadelphia       925\n",
       "Buffalo            775\n",
       "Name: DepCity, dtype: int64"
      ]
     },
     "execution_count": 42,
     "metadata": {},
     "output_type": "execute_result"
    }
   ],
   "source": [
    "train_data[\"DepCity\"].value_counts()"
   ]
  },
  {
   "cell_type": "code",
   "execution_count": 43,
   "id": "22a21ec3",
   "metadata": {},
   "outputs": [
    {
     "data": {
      "text/plain": [
       "San               5951\n",
       "New               3096\n",
       "Washington        2392\n",
       "Seattle           2266\n",
       "Tampa             2245\n",
       "Phoenix           2053\n",
       "St.               2031\n",
       "Orlando           1978\n",
       "Portland          1783\n",
       "RaleighDurham     1743\n",
       "Philadelphia      1738\n",
       "Salt              1557\n",
       "MinneapolisSt.    1528\n",
       "Los               1497\n",
       "Miami             1478\n",
       "Las               1394\n",
       "Pittsburgh        1381\n",
       "Nashville         1282\n",
       "Sacramento        1258\n",
       "Houston           1067\n",
       "Name: ArrivalCity, dtype: int64"
      ]
     },
     "execution_count": 43,
     "metadata": {},
     "output_type": "execute_result"
    }
   ],
   "source": [
    "train_data[\"ArrivalCity\"].value_counts()"
   ]
  },
  {
   "cell_type": "code",
   "execution_count": 44,
   "id": "ec130c76",
   "metadata": {},
   "outputs": [
    {
     "data": {
      "image/png": "[encoded data removed]",
      "text/plain": [
       "<Figure size 864x288 with 1 Axes>"
      ]
     },
     "metadata": {
      "needs_background": "light"
     },
     "output_type": "display_data"
    }
   ],
   "source": [
    "# Source vs Price\n",
    "\n",
    "sns.catplot(y = \"fare\", x = \"DepCity\", data = train_data.sort_values(\"fare\", ascending = False), kind=\"boxen\", height = 4, aspect = 3)\n",
    "plt.show()\n"
   ]
  },
  {
   "cell_type": "code",
   "execution_count": 45,
   "id": "e7a26a54",
   "metadata": {},
   "outputs": [
    {
     "data": {
      "text/html": [
       "<div>\n",
       "<style scoped>\n",
       "    .dataframe tbody tr th:only-of-type {\n",
       "        vertical-align: middle;\n",
       "    }\n",
       "\n",
       "    .dataframe tbody tr th {\n",
       "        vertical-align: top;\n",
       "    }\n",
       "\n",
       "    .dataframe thead th {\n",
       "        text-align: right;\n",
       "    }\n",
       "</style>\n",
       "<table border=\"1\" class=\"dataframe\">\n",
       "  <thead>\n",
       "    <tr style=\"text-align: right;\">\n",
       "      <th></th>\n",
       "      <th>DepCity_Atlanta</th>\n",
       "      <th>DepCity_Austin</th>\n",
       "      <th>DepCity_Boston</th>\n",
       "      <th>DepCity_Buffalo</th>\n",
       "      <th>DepCity_Charlotte</th>\n",
       "      <th>DepCity_Chicago</th>\n",
       "      <th>DepCity_Cincinnati</th>\n",
       "      <th>DepCity_Cleveland</th>\n",
       "      <th>DepCity_Columbus</th>\n",
       "      <th>DepCity_DallasFort</th>\n",
       "      <th>...</th>\n",
       "      <th>DepCity_Las</th>\n",
       "      <th>DepCity_Los</th>\n",
       "      <th>DepCity_Miami</th>\n",
       "      <th>DepCity_MinneapolisSt.</th>\n",
       "      <th>DepCity_Nashville</th>\n",
       "      <th>DepCity_New</th>\n",
       "      <th>DepCity_Orlando</th>\n",
       "      <th>DepCity_Philadelphia</th>\n",
       "      <th>DepCity_Phoenix</th>\n",
       "      <th>DepCity_San</th>\n",
       "    </tr>\n",
       "  </thead>\n",
       "  <tbody>\n",
       "    <tr>\n",
       "      <th>1</th>\n",
       "      <td>0</td>\n",
       "      <td>0</td>\n",
       "      <td>0</td>\n",
       "      <td>0</td>\n",
       "      <td>0</td>\n",
       "      <td>0</td>\n",
       "      <td>0</td>\n",
       "      <td>0</td>\n",
       "      <td>0</td>\n",
       "      <td>0</td>\n",
       "      <td>...</td>\n",
       "      <td>0</td>\n",
       "      <td>0</td>\n",
       "      <td>0</td>\n",
       "      <td>0</td>\n",
       "      <td>0</td>\n",
       "      <td>0</td>\n",
       "      <td>0</td>\n",
       "      <td>0</td>\n",
       "      <td>0</td>\n",
       "      <td>0</td>\n",
       "    </tr>\n",
       "    <tr>\n",
       "      <th>5</th>\n",
       "      <td>0</td>\n",
       "      <td>0</td>\n",
       "      <td>0</td>\n",
       "      <td>0</td>\n",
       "      <td>0</td>\n",
       "      <td>0</td>\n",
       "      <td>0</td>\n",
       "      <td>0</td>\n",
       "      <td>0</td>\n",
       "      <td>0</td>\n",
       "      <td>...</td>\n",
       "      <td>0</td>\n",
       "      <td>0</td>\n",
       "      <td>0</td>\n",
       "      <td>0</td>\n",
       "      <td>0</td>\n",
       "      <td>0</td>\n",
       "      <td>0</td>\n",
       "      <td>0</td>\n",
       "      <td>1</td>\n",
       "      <td>0</td>\n",
       "    </tr>\n",
       "    <tr>\n",
       "      <th>6</th>\n",
       "      <td>0</td>\n",
       "      <td>0</td>\n",
       "      <td>0</td>\n",
       "      <td>0</td>\n",
       "      <td>0</td>\n",
       "      <td>0</td>\n",
       "      <td>1</td>\n",
       "      <td>0</td>\n",
       "      <td>0</td>\n",
       "      <td>0</td>\n",
       "      <td>...</td>\n",
       "      <td>0</td>\n",
       "      <td>0</td>\n",
       "      <td>0</td>\n",
       "      <td>0</td>\n",
       "      <td>0</td>\n",
       "      <td>0</td>\n",
       "      <td>0</td>\n",
       "      <td>0</td>\n",
       "      <td>0</td>\n",
       "      <td>0</td>\n",
       "    </tr>\n",
       "    <tr>\n",
       "      <th>7</th>\n",
       "      <td>0</td>\n",
       "      <td>0</td>\n",
       "      <td>0</td>\n",
       "      <td>0</td>\n",
       "      <td>0</td>\n",
       "      <td>0</td>\n",
       "      <td>0</td>\n",
       "      <td>0</td>\n",
       "      <td>0</td>\n",
       "      <td>0</td>\n",
       "      <td>...</td>\n",
       "      <td>1</td>\n",
       "      <td>0</td>\n",
       "      <td>0</td>\n",
       "      <td>0</td>\n",
       "      <td>0</td>\n",
       "      <td>0</td>\n",
       "      <td>0</td>\n",
       "      <td>0</td>\n",
       "      <td>0</td>\n",
       "      <td>0</td>\n",
       "    </tr>\n",
       "    <tr>\n",
       "      <th>10</th>\n",
       "      <td>0</td>\n",
       "      <td>0</td>\n",
       "      <td>0</td>\n",
       "      <td>0</td>\n",
       "      <td>0</td>\n",
       "      <td>0</td>\n",
       "      <td>0</td>\n",
       "      <td>0</td>\n",
       "      <td>0</td>\n",
       "      <td>0</td>\n",
       "      <td>...</td>\n",
       "      <td>0</td>\n",
       "      <td>0</td>\n",
       "      <td>0</td>\n",
       "      <td>0</td>\n",
       "      <td>0</td>\n",
       "      <td>1</td>\n",
       "      <td>0</td>\n",
       "      <td>0</td>\n",
       "      <td>0</td>\n",
       "      <td>0</td>\n",
       "    </tr>\n",
       "  </tbody>\n",
       "</table>\n",
       "<p>5 rows × 26 columns</p>\n",
       "</div>"
      ],
      "text/plain": [
       "    DepCity_Atlanta  DepCity_Austin  DepCity_Boston  DepCity_Buffalo  \\\n",
       "1                 0               0               0                0   \n",
       "5                 0               0               0                0   \n",
       "6                 0               0               0                0   \n",
       "7                 0               0               0                0   \n",
       "10                0               0               0                0   \n",
       "\n",
       "    DepCity_Charlotte  DepCity_Chicago  DepCity_Cincinnati  DepCity_Cleveland  \\\n",
       "1                   0                0                   0                  0   \n",
       "5                   0                0                   0                  0   \n",
       "6                   0                0                   1                  0   \n",
       "7                   0                0                   0                  0   \n",
       "10                  0                0                   0                  0   \n",
       "\n",
       "    DepCity_Columbus  DepCity_DallasFort  ...  DepCity_Las  DepCity_Los  \\\n",
       "1                  0                   0  ...            0            0   \n",
       "5                  0                   0  ...            0            0   \n",
       "6                  0                   0  ...            0            0   \n",
       "7                  0                   0  ...            1            0   \n",
       "10                 0                   0  ...            0            0   \n",
       "\n",
       "    DepCity_Miami  DepCity_MinneapolisSt.  DepCity_Nashville  DepCity_New  \\\n",
       "1               0                       0                  0            0   \n",
       "5               0                       0                  0            0   \n",
       "6               0                       0                  0            0   \n",
       "7               0                       0                  0            0   \n",
       "10              0                       0                  0            1   \n",
       "\n",
       "    DepCity_Orlando  DepCity_Philadelphia  DepCity_Phoenix  DepCity_San  \n",
       "1                 0                     0                0            0  \n",
       "5                 0                     0                1            0  \n",
       "6                 0                     0                0            0  \n",
       "7                 0                     0                0            0  \n",
       "10                0                     0                0            0  \n",
       "\n",
       "[5 rows x 26 columns]"
      ]
     },
     "execution_count": 45,
     "metadata": {},
     "output_type": "execute_result"
    }
   ],
   "source": [
    "# As Source is Nominal Categorical data we will perform OneHotEncoding\n",
    "\n",
    "Source = train_data[[\"DepCity\"]]\n",
    "\n",
    "Source = pd.get_dummies(Source, drop_first= True)\n",
    "\n",
    "Source.head()"
   ]
  },
  {
   "cell_type": "code",
   "execution_count": 46,
   "id": "e0edf85f",
   "metadata": {},
   "outputs": [
    {
     "data": {
      "text/html": [
       "<div>\n",
       "<style scoped>\n",
       "    .dataframe tbody tr th:only-of-type {\n",
       "        vertical-align: middle;\n",
       "    }\n",
       "\n",
       "    .dataframe tbody tr th {\n",
       "        vertical-align: top;\n",
       "    }\n",
       "\n",
       "    .dataframe thead th {\n",
       "        text-align: right;\n",
       "    }\n",
       "</style>\n",
       "<table border=\"1\" class=\"dataframe\">\n",
       "  <thead>\n",
       "    <tr style=\"text-align: right;\">\n",
       "      <th></th>\n",
       "      <th>ArrivalCity_Las</th>\n",
       "      <th>ArrivalCity_Los</th>\n",
       "      <th>ArrivalCity_Miami</th>\n",
       "      <th>ArrivalCity_MinneapolisSt.</th>\n",
       "      <th>ArrivalCity_Nashville</th>\n",
       "      <th>ArrivalCity_New</th>\n",
       "      <th>ArrivalCity_Orlando</th>\n",
       "      <th>ArrivalCity_Philadelphia</th>\n",
       "      <th>ArrivalCity_Phoenix</th>\n",
       "      <th>ArrivalCity_Pittsburgh</th>\n",
       "      <th>ArrivalCity_Portland</th>\n",
       "      <th>ArrivalCity_RaleighDurham</th>\n",
       "      <th>ArrivalCity_Sacramento</th>\n",
       "      <th>ArrivalCity_Salt</th>\n",
       "      <th>ArrivalCity_San</th>\n",
       "      <th>ArrivalCity_Seattle</th>\n",
       "      <th>ArrivalCity_St.</th>\n",
       "      <th>ArrivalCity_Tampa</th>\n",
       "      <th>ArrivalCity_Washington</th>\n",
       "    </tr>\n",
       "  </thead>\n",
       "  <tbody>\n",
       "    <tr>\n",
       "      <th>1</th>\n",
       "      <td>0</td>\n",
       "      <td>0</td>\n",
       "      <td>0</td>\n",
       "      <td>0</td>\n",
       "      <td>0</td>\n",
       "      <td>0</td>\n",
       "      <td>0</td>\n",
       "      <td>0</td>\n",
       "      <td>0</td>\n",
       "      <td>0</td>\n",
       "      <td>0</td>\n",
       "      <td>0</td>\n",
       "      <td>0</td>\n",
       "      <td>0</td>\n",
       "      <td>0</td>\n",
       "      <td>1</td>\n",
       "      <td>0</td>\n",
       "      <td>0</td>\n",
       "      <td>0</td>\n",
       "    </tr>\n",
       "    <tr>\n",
       "      <th>5</th>\n",
       "      <td>0</td>\n",
       "      <td>0</td>\n",
       "      <td>0</td>\n",
       "      <td>0</td>\n",
       "      <td>0</td>\n",
       "      <td>0</td>\n",
       "      <td>0</td>\n",
       "      <td>0</td>\n",
       "      <td>0</td>\n",
       "      <td>0</td>\n",
       "      <td>1</td>\n",
       "      <td>0</td>\n",
       "      <td>0</td>\n",
       "      <td>0</td>\n",
       "      <td>0</td>\n",
       "      <td>0</td>\n",
       "      <td>0</td>\n",
       "      <td>0</td>\n",
       "      <td>0</td>\n",
       "    </tr>\n",
       "    <tr>\n",
       "      <th>6</th>\n",
       "      <td>0</td>\n",
       "      <td>0</td>\n",
       "      <td>1</td>\n",
       "      <td>0</td>\n",
       "      <td>0</td>\n",
       "      <td>0</td>\n",
       "      <td>0</td>\n",
       "      <td>0</td>\n",
       "      <td>0</td>\n",
       "      <td>0</td>\n",
       "      <td>0</td>\n",
       "      <td>0</td>\n",
       "      <td>0</td>\n",
       "      <td>0</td>\n",
       "      <td>0</td>\n",
       "      <td>0</td>\n",
       "      <td>0</td>\n",
       "      <td>0</td>\n",
       "      <td>0</td>\n",
       "    </tr>\n",
       "    <tr>\n",
       "      <th>7</th>\n",
       "      <td>0</td>\n",
       "      <td>0</td>\n",
       "      <td>0</td>\n",
       "      <td>0</td>\n",
       "      <td>0</td>\n",
       "      <td>0</td>\n",
       "      <td>0</td>\n",
       "      <td>0</td>\n",
       "      <td>0</td>\n",
       "      <td>0</td>\n",
       "      <td>0</td>\n",
       "      <td>0</td>\n",
       "      <td>0</td>\n",
       "      <td>0</td>\n",
       "      <td>1</td>\n",
       "      <td>0</td>\n",
       "      <td>0</td>\n",
       "      <td>0</td>\n",
       "      <td>0</td>\n",
       "    </tr>\n",
       "    <tr>\n",
       "      <th>10</th>\n",
       "      <td>0</td>\n",
       "      <td>0</td>\n",
       "      <td>0</td>\n",
       "      <td>0</td>\n",
       "      <td>0</td>\n",
       "      <td>0</td>\n",
       "      <td>0</td>\n",
       "      <td>0</td>\n",
       "      <td>0</td>\n",
       "      <td>0</td>\n",
       "      <td>0</td>\n",
       "      <td>0</td>\n",
       "      <td>0</td>\n",
       "      <td>0</td>\n",
       "      <td>1</td>\n",
       "      <td>0</td>\n",
       "      <td>0</td>\n",
       "      <td>0</td>\n",
       "      <td>0</td>\n",
       "    </tr>\n",
       "  </tbody>\n",
       "</table>\n",
       "</div>"
      ],
      "text/plain": [
       "    ArrivalCity_Las  ArrivalCity_Los  ArrivalCity_Miami  \\\n",
       "1                 0                0                  0   \n",
       "5                 0                0                  0   \n",
       "6                 0                0                  1   \n",
       "7                 0                0                  0   \n",
       "10                0                0                  0   \n",
       "\n",
       "    ArrivalCity_MinneapolisSt.  ArrivalCity_Nashville  ArrivalCity_New  \\\n",
       "1                            0                      0                0   \n",
       "5                            0                      0                0   \n",
       "6                            0                      0                0   \n",
       "7                            0                      0                0   \n",
       "10                           0                      0                0   \n",
       "\n",
       "    ArrivalCity_Orlando  ArrivalCity_Philadelphia  ArrivalCity_Phoenix  \\\n",
       "1                     0                         0                    0   \n",
       "5                     0                         0                    0   \n",
       "6                     0                         0                    0   \n",
       "7                     0                         0                    0   \n",
       "10                    0                         0                    0   \n",
       "\n",
       "    ArrivalCity_Pittsburgh  ArrivalCity_Portland  ArrivalCity_RaleighDurham  \\\n",
       "1                        0                     0                          0   \n",
       "5                        0                     1                          0   \n",
       "6                        0                     0                          0   \n",
       "7                        0                     0                          0   \n",
       "10                       0                     0                          0   \n",
       "\n",
       "    ArrivalCity_Sacramento  ArrivalCity_Salt  ArrivalCity_San  \\\n",
       "1                        0                 0                0   \n",
       "5                        0                 0                0   \n",
       "6                        0                 0                0   \n",
       "7                        0                 0                1   \n",
       "10                       0                 0                1   \n",
       "\n",
       "    ArrivalCity_Seattle  ArrivalCity_St.  ArrivalCity_Tampa  \\\n",
       "1                     1                0                  0   \n",
       "5                     0                0                  0   \n",
       "6                     0                0                  0   \n",
       "7                     0                0                  0   \n",
       "10                    0                0                  0   \n",
       "\n",
       "    ArrivalCity_Washington  \n",
       "1                        0  \n",
       "5                        0  \n",
       "6                        0  \n",
       "7                        0  \n",
       "10                       0  "
      ]
     },
     "execution_count": 46,
     "metadata": {},
     "output_type": "execute_result"
    }
   ],
   "source": [
    "# As Destination is Nominal Categorical data we will perform OneHotEncoding\n",
    "\n",
    "Destination = train_data[[\"ArrivalCity\"]]\n",
    "\n",
    "Destination = pd.get_dummies(Destination, drop_first = True)\n",
    "\n",
    "Destination.head()"
   ]
  },
  {
   "cell_type": "code",
   "execution_count": 47,
   "id": "3f29a372",
   "metadata": {},
   "outputs": [
    {
     "data": {
      "text/html": [
       "<div>\n",
       "<style scoped>\n",
       "    .dataframe tbody tr th:only-of-type {\n",
       "        vertical-align: middle;\n",
       "    }\n",
       "\n",
       "    .dataframe tbody tr th {\n",
       "        vertical-align: top;\n",
       "    }\n",
       "\n",
       "    .dataframe thead th {\n",
       "        text-align: right;\n",
       "    }\n",
       "</style>\n",
       "<table border=\"1\" class=\"dataframe\">\n",
       "  <thead>\n",
       "    <tr style=\"text-align: right;\">\n",
       "      <th></th>\n",
       "      <th>carrier_lg_AS</th>\n",
       "      <th>carrier_lg_B6</th>\n",
       "      <th>carrier_lg_CO</th>\n",
       "      <th>carrier_lg_DL</th>\n",
       "      <th>carrier_lg_F9</th>\n",
       "      <th>carrier_lg_FL</th>\n",
       "      <th>carrier_lg_G4</th>\n",
       "      <th>carrier_lg_HP</th>\n",
       "      <th>carrier_lg_JI</th>\n",
       "      <th>carrier_lg_NK</th>\n",
       "      <th>carrier_lg_NW</th>\n",
       "      <th>carrier_lg_Other</th>\n",
       "      <th>carrier_lg_SY</th>\n",
       "      <th>carrier_lg_TW</th>\n",
       "      <th>carrier_lg_TZ</th>\n",
       "      <th>carrier_lg_UA</th>\n",
       "      <th>carrier_lg_US</th>\n",
       "      <th>carrier_lg_WN</th>\n",
       "      <th>carrier_lg_YX</th>\n",
       "    </tr>\n",
       "  </thead>\n",
       "  <tbody>\n",
       "    <tr>\n",
       "      <th>1</th>\n",
       "      <td>0</td>\n",
       "      <td>0</td>\n",
       "      <td>0</td>\n",
       "      <td>0</td>\n",
       "      <td>0</td>\n",
       "      <td>0</td>\n",
       "      <td>0</td>\n",
       "      <td>0</td>\n",
       "      <td>0</td>\n",
       "      <td>0</td>\n",
       "      <td>0</td>\n",
       "      <td>0</td>\n",
       "      <td>0</td>\n",
       "      <td>0</td>\n",
       "      <td>0</td>\n",
       "      <td>1</td>\n",
       "      <td>0</td>\n",
       "      <td>0</td>\n",
       "      <td>0</td>\n",
       "    </tr>\n",
       "    <tr>\n",
       "      <th>5</th>\n",
       "      <td>0</td>\n",
       "      <td>0</td>\n",
       "      <td>0</td>\n",
       "      <td>0</td>\n",
       "      <td>0</td>\n",
       "      <td>0</td>\n",
       "      <td>0</td>\n",
       "      <td>0</td>\n",
       "      <td>0</td>\n",
       "      <td>0</td>\n",
       "      <td>0</td>\n",
       "      <td>0</td>\n",
       "      <td>0</td>\n",
       "      <td>0</td>\n",
       "      <td>0</td>\n",
       "      <td>0</td>\n",
       "      <td>0</td>\n",
       "      <td>1</td>\n",
       "      <td>0</td>\n",
       "    </tr>\n",
       "    <tr>\n",
       "      <th>6</th>\n",
       "      <td>0</td>\n",
       "      <td>0</td>\n",
       "      <td>0</td>\n",
       "      <td>1</td>\n",
       "      <td>0</td>\n",
       "      <td>0</td>\n",
       "      <td>0</td>\n",
       "      <td>0</td>\n",
       "      <td>0</td>\n",
       "      <td>0</td>\n",
       "      <td>0</td>\n",
       "      <td>0</td>\n",
       "      <td>0</td>\n",
       "      <td>0</td>\n",
       "      <td>0</td>\n",
       "      <td>0</td>\n",
       "      <td>0</td>\n",
       "      <td>0</td>\n",
       "      <td>0</td>\n",
       "    </tr>\n",
       "    <tr>\n",
       "      <th>7</th>\n",
       "      <td>0</td>\n",
       "      <td>0</td>\n",
       "      <td>0</td>\n",
       "      <td>0</td>\n",
       "      <td>0</td>\n",
       "      <td>0</td>\n",
       "      <td>0</td>\n",
       "      <td>0</td>\n",
       "      <td>0</td>\n",
       "      <td>0</td>\n",
       "      <td>0</td>\n",
       "      <td>0</td>\n",
       "      <td>0</td>\n",
       "      <td>0</td>\n",
       "      <td>0</td>\n",
       "      <td>0</td>\n",
       "      <td>0</td>\n",
       "      <td>1</td>\n",
       "      <td>0</td>\n",
       "    </tr>\n",
       "    <tr>\n",
       "      <th>10</th>\n",
       "      <td>0</td>\n",
       "      <td>0</td>\n",
       "      <td>0</td>\n",
       "      <td>0</td>\n",
       "      <td>0</td>\n",
       "      <td>0</td>\n",
       "      <td>0</td>\n",
       "      <td>0</td>\n",
       "      <td>0</td>\n",
       "      <td>0</td>\n",
       "      <td>0</td>\n",
       "      <td>0</td>\n",
       "      <td>0</td>\n",
       "      <td>0</td>\n",
       "      <td>0</td>\n",
       "      <td>1</td>\n",
       "      <td>0</td>\n",
       "      <td>0</td>\n",
       "      <td>0</td>\n",
       "    </tr>\n",
       "  </tbody>\n",
       "</table>\n",
       "</div>"
      ],
      "text/plain": [
       "    carrier_lg_AS  carrier_lg_B6  carrier_lg_CO  carrier_lg_DL  carrier_lg_F9  \\\n",
       "1               0              0              0              0              0   \n",
       "5               0              0              0              0              0   \n",
       "6               0              0              0              1              0   \n",
       "7               0              0              0              0              0   \n",
       "10              0              0              0              0              0   \n",
       "\n",
       "    carrier_lg_FL  carrier_lg_G4  carrier_lg_HP  carrier_lg_JI  carrier_lg_NK  \\\n",
       "1               0              0              0              0              0   \n",
       "5               0              0              0              0              0   \n",
       "6               0              0              0              0              0   \n",
       "7               0              0              0              0              0   \n",
       "10              0              0              0              0              0   \n",
       "\n",
       "    carrier_lg_NW  carrier_lg_Other  carrier_lg_SY  carrier_lg_TW  \\\n",
       "1               0                 0              0              0   \n",
       "5               0                 0              0              0   \n",
       "6               0                 0              0              0   \n",
       "7               0                 0              0              0   \n",
       "10              0                 0              0              0   \n",
       "\n",
       "    carrier_lg_TZ  carrier_lg_UA  carrier_lg_US  carrier_lg_WN  carrier_lg_YX  \n",
       "1               0              1              0              0              0  \n",
       "5               0              0              0              1              0  \n",
       "6               0              0              0              0              0  \n",
       "7               0              0              0              1              0  \n",
       "10              0              1              0              0              0  "
      ]
     },
     "execution_count": 47,
     "metadata": {},
     "output_type": "execute_result"
    }
   ],
   "source": [
    "Airline = train_data[[\"carrier_lg\"]]\n",
    "\n",
    "Airline = pd.get_dummies(Airline, drop_first= True)\n",
    "\n",
    "Airline.head()"
   ]
  },
  {
   "cell_type": "code",
   "execution_count": 48,
   "id": "ead978a7",
   "metadata": {},
   "outputs": [
    {
     "data": {
      "text/html": [
       "<div>\n",
       "<style scoped>\n",
       "    .dataframe tbody tr th:only-of-type {\n",
       "        vertical-align: middle;\n",
       "    }\n",
       "\n",
       "    .dataframe tbody tr th {\n",
       "        vertical-align: top;\n",
       "    }\n",
       "\n",
       "    .dataframe thead th {\n",
       "        text-align: right;\n",
       "    }\n",
       "</style>\n",
       "<table border=\"1\" class=\"dataframe\">\n",
       "  <thead>\n",
       "    <tr style=\"text-align: right;\">\n",
       "      <th></th>\n",
       "      <th>carrier_lg_AS</th>\n",
       "      <th>carrier_lg_B6</th>\n",
       "      <th>carrier_lg_CO</th>\n",
       "      <th>carrier_lg_DL</th>\n",
       "      <th>carrier_lg_F9</th>\n",
       "      <th>carrier_lg_FL</th>\n",
       "      <th>carrier_lg_G4</th>\n",
       "      <th>carrier_lg_HP</th>\n",
       "      <th>carrier_lg_JI</th>\n",
       "      <th>carrier_lg_NK</th>\n",
       "      <th>carrier_lg_NW</th>\n",
       "      <th>carrier_lg_Other</th>\n",
       "      <th>carrier_lg_SY</th>\n",
       "      <th>carrier_lg_TW</th>\n",
       "      <th>carrier_lg_TZ</th>\n",
       "      <th>carrier_lg_UA</th>\n",
       "      <th>carrier_lg_US</th>\n",
       "      <th>carrier_lg_WN</th>\n",
       "      <th>carrier_lg_YX</th>\n",
       "    </tr>\n",
       "  </thead>\n",
       "  <tbody>\n",
       "    <tr>\n",
       "      <th>1</th>\n",
       "      <td>0</td>\n",
       "      <td>0</td>\n",
       "      <td>0</td>\n",
       "      <td>0</td>\n",
       "      <td>0</td>\n",
       "      <td>0</td>\n",
       "      <td>0</td>\n",
       "      <td>0</td>\n",
       "      <td>0</td>\n",
       "      <td>0</td>\n",
       "      <td>0</td>\n",
       "      <td>0</td>\n",
       "      <td>0</td>\n",
       "      <td>0</td>\n",
       "      <td>0</td>\n",
       "      <td>1</td>\n",
       "      <td>0</td>\n",
       "      <td>0</td>\n",
       "      <td>0</td>\n",
       "    </tr>\n",
       "    <tr>\n",
       "      <th>5</th>\n",
       "      <td>0</td>\n",
       "      <td>0</td>\n",
       "      <td>0</td>\n",
       "      <td>0</td>\n",
       "      <td>0</td>\n",
       "      <td>0</td>\n",
       "      <td>0</td>\n",
       "      <td>0</td>\n",
       "      <td>0</td>\n",
       "      <td>0</td>\n",
       "      <td>0</td>\n",
       "      <td>0</td>\n",
       "      <td>0</td>\n",
       "      <td>0</td>\n",
       "      <td>0</td>\n",
       "      <td>0</td>\n",
       "      <td>0</td>\n",
       "      <td>1</td>\n",
       "      <td>0</td>\n",
       "    </tr>\n",
       "    <tr>\n",
       "      <th>6</th>\n",
       "      <td>0</td>\n",
       "      <td>0</td>\n",
       "      <td>0</td>\n",
       "      <td>1</td>\n",
       "      <td>0</td>\n",
       "      <td>0</td>\n",
       "      <td>0</td>\n",
       "      <td>0</td>\n",
       "      <td>0</td>\n",
       "      <td>0</td>\n",
       "      <td>0</td>\n",
       "      <td>0</td>\n",
       "      <td>0</td>\n",
       "      <td>0</td>\n",
       "      <td>0</td>\n",
       "      <td>0</td>\n",
       "      <td>0</td>\n",
       "      <td>0</td>\n",
       "      <td>0</td>\n",
       "    </tr>\n",
       "    <tr>\n",
       "      <th>7</th>\n",
       "      <td>0</td>\n",
       "      <td>0</td>\n",
       "      <td>0</td>\n",
       "      <td>0</td>\n",
       "      <td>0</td>\n",
       "      <td>0</td>\n",
       "      <td>0</td>\n",
       "      <td>0</td>\n",
       "      <td>0</td>\n",
       "      <td>0</td>\n",
       "      <td>0</td>\n",
       "      <td>0</td>\n",
       "      <td>0</td>\n",
       "      <td>0</td>\n",
       "      <td>0</td>\n",
       "      <td>0</td>\n",
       "      <td>0</td>\n",
       "      <td>1</td>\n",
       "      <td>0</td>\n",
       "    </tr>\n",
       "    <tr>\n",
       "      <th>10</th>\n",
       "      <td>0</td>\n",
       "      <td>0</td>\n",
       "      <td>0</td>\n",
       "      <td>0</td>\n",
       "      <td>0</td>\n",
       "      <td>0</td>\n",
       "      <td>0</td>\n",
       "      <td>0</td>\n",
       "      <td>0</td>\n",
       "      <td>0</td>\n",
       "      <td>0</td>\n",
       "      <td>0</td>\n",
       "      <td>0</td>\n",
       "      <td>0</td>\n",
       "      <td>0</td>\n",
       "      <td>1</td>\n",
       "      <td>0</td>\n",
       "      <td>0</td>\n",
       "      <td>0</td>\n",
       "    </tr>\n",
       "  </tbody>\n",
       "</table>\n",
       "</div>"
      ],
      "text/plain": [
       "    carrier_lg_AS  carrier_lg_B6  carrier_lg_CO  carrier_lg_DL  carrier_lg_F9  \\\n",
       "1               0              0              0              0              0   \n",
       "5               0              0              0              0              0   \n",
       "6               0              0              0              1              0   \n",
       "7               0              0              0              0              0   \n",
       "10              0              0              0              0              0   \n",
       "\n",
       "    carrier_lg_FL  carrier_lg_G4  carrier_lg_HP  carrier_lg_JI  carrier_lg_NK  \\\n",
       "1               0              0              0              0              0   \n",
       "5               0              0              0              0              0   \n",
       "6               0              0              0              0              0   \n",
       "7               0              0              0              0              0   \n",
       "10              0              0              0              0              0   \n",
       "\n",
       "    carrier_lg_NW  carrier_lg_Other  carrier_lg_SY  carrier_lg_TW  \\\n",
       "1               0                 0              0              0   \n",
       "5               0                 0              0              0   \n",
       "6               0                 0              0              0   \n",
       "7               0                 0              0              0   \n",
       "10              0                 0              0              0   \n",
       "\n",
       "    carrier_lg_TZ  carrier_lg_UA  carrier_lg_US  carrier_lg_WN  carrier_lg_YX  \n",
       "1               0              1              0              0              0  \n",
       "5               0              0              0              1              0  \n",
       "6               0              0              0              0              0  \n",
       "7               0              0              0              1              0  \n",
       "10              0              1              0              0              0  "
      ]
     },
     "execution_count": 48,
     "metadata": {},
     "output_type": "execute_result"
    }
   ],
   "source": [
    "Airline = train_data[[\"carrier_lg\"]]\n",
    "\n",
    "Airline = pd.get_dummies(Airline, drop_first= True)\n",
    "\n",
    "Airline.head()"
   ]
  },
  {
   "cell_type": "code",
   "execution_count": 49,
   "id": "11f2f78d",
   "metadata": {},
   "outputs": [
    {
     "data": {
      "text/plain": [
       "3    10152\n",
       "2    10034\n",
       "1     9877\n",
       "4     9655\n",
       "Name: quarter, dtype: int64"
      ]
     },
     "execution_count": 49,
     "metadata": {},
     "output_type": "execute_result"
    }
   ],
   "source": [
    "train_data[\"quarter\"].value_counts()"
   ]
  },
  {
   "cell_type": "code",
   "execution_count": 50,
   "id": "e75357cf",
   "metadata": {},
   "outputs": [],
   "source": [
    "# Concatenate dataframe --> train_data + Airline + Source + Destination\n",
    "\n",
    "data_train = pd.concat([train_data, Airline, Source, Destination], axis = 1)"
   ]
  },
  {
   "cell_type": "code",
   "execution_count": 51,
   "id": "52b08701",
   "metadata": {},
   "outputs": [],
   "source": [
    "data_train.drop([\"carrier_lg\", \"DepCity\", \"ArrivalCity\"], axis = 1, inplace = True)"
   ]
  },
  {
   "cell_type": "code",
   "execution_count": 52,
   "id": "f067691f",
   "metadata": {},
   "outputs": [
    {
     "data": {
      "text/html": [
       "<div>\n",
       "<style scoped>\n",
       "    .dataframe tbody tr th:only-of-type {\n",
       "        vertical-align: middle;\n",
       "    }\n",
       "\n",
       "    .dataframe tbody tr th {\n",
       "        vertical-align: top;\n",
       "    }\n",
       "\n",
       "    .dataframe thead th {\n",
       "        text-align: right;\n",
       "    }\n",
       "</style>\n",
       "<table border=\"1\" class=\"dataframe\">\n",
       "  <thead>\n",
       "    <tr style=\"text-align: right;\">\n",
       "      <th></th>\n",
       "      <th>Year</th>\n",
       "      <th>quarter</th>\n",
       "      <th>fare</th>\n",
       "      <th>carrier_lg_AS</th>\n",
       "      <th>carrier_lg_B6</th>\n",
       "      <th>carrier_lg_CO</th>\n",
       "      <th>carrier_lg_DL</th>\n",
       "      <th>carrier_lg_F9</th>\n",
       "      <th>carrier_lg_FL</th>\n",
       "      <th>carrier_lg_G4</th>\n",
       "      <th>...</th>\n",
       "      <th>ArrivalCity_Pittsburgh</th>\n",
       "      <th>ArrivalCity_Portland</th>\n",
       "      <th>ArrivalCity_RaleighDurham</th>\n",
       "      <th>ArrivalCity_Sacramento</th>\n",
       "      <th>ArrivalCity_Salt</th>\n",
       "      <th>ArrivalCity_San</th>\n",
       "      <th>ArrivalCity_Seattle</th>\n",
       "      <th>ArrivalCity_St.</th>\n",
       "      <th>ArrivalCity_Tampa</th>\n",
       "      <th>ArrivalCity_Washington</th>\n",
       "    </tr>\n",
       "  </thead>\n",
       "  <tbody>\n",
       "    <tr>\n",
       "      <th>1</th>\n",
       "      <td>2008</td>\n",
       "      <td>3</td>\n",
       "      <td>257.30</td>\n",
       "      <td>0</td>\n",
       "      <td>0</td>\n",
       "      <td>0</td>\n",
       "      <td>0</td>\n",
       "      <td>0</td>\n",
       "      <td>0</td>\n",
       "      <td>0</td>\n",
       "      <td>...</td>\n",
       "      <td>0</td>\n",
       "      <td>0</td>\n",
       "      <td>0</td>\n",
       "      <td>0</td>\n",
       "      <td>0</td>\n",
       "      <td>0</td>\n",
       "      <td>1</td>\n",
       "      <td>0</td>\n",
       "      <td>0</td>\n",
       "      <td>0</td>\n",
       "    </tr>\n",
       "    <tr>\n",
       "      <th>5</th>\n",
       "      <td>2015</td>\n",
       "      <td>1</td>\n",
       "      <td>204.18</td>\n",
       "      <td>0</td>\n",
       "      <td>0</td>\n",
       "      <td>0</td>\n",
       "      <td>0</td>\n",
       "      <td>0</td>\n",
       "      <td>0</td>\n",
       "      <td>0</td>\n",
       "      <td>...</td>\n",
       "      <td>0</td>\n",
       "      <td>1</td>\n",
       "      <td>0</td>\n",
       "      <td>0</td>\n",
       "      <td>0</td>\n",
       "      <td>0</td>\n",
       "      <td>0</td>\n",
       "      <td>0</td>\n",
       "      <td>0</td>\n",
       "      <td>0</td>\n",
       "    </tr>\n",
       "    <tr>\n",
       "      <th>6</th>\n",
       "      <td>2017</td>\n",
       "      <td>4</td>\n",
       "      <td>170.86</td>\n",
       "      <td>0</td>\n",
       "      <td>0</td>\n",
       "      <td>0</td>\n",
       "      <td>1</td>\n",
       "      <td>0</td>\n",
       "      <td>0</td>\n",
       "      <td>0</td>\n",
       "      <td>...</td>\n",
       "      <td>0</td>\n",
       "      <td>0</td>\n",
       "      <td>0</td>\n",
       "      <td>0</td>\n",
       "      <td>0</td>\n",
       "      <td>0</td>\n",
       "      <td>0</td>\n",
       "      <td>0</td>\n",
       "      <td>0</td>\n",
       "      <td>0</td>\n",
       "    </tr>\n",
       "    <tr>\n",
       "      <th>7</th>\n",
       "      <td>2003</td>\n",
       "      <td>1</td>\n",
       "      <td>82.55</td>\n",
       "      <td>0</td>\n",
       "      <td>0</td>\n",
       "      <td>0</td>\n",
       "      <td>0</td>\n",
       "      <td>0</td>\n",
       "      <td>0</td>\n",
       "      <td>0</td>\n",
       "      <td>...</td>\n",
       "      <td>0</td>\n",
       "      <td>0</td>\n",
       "      <td>0</td>\n",
       "      <td>0</td>\n",
       "      <td>0</td>\n",
       "      <td>1</td>\n",
       "      <td>0</td>\n",
       "      <td>0</td>\n",
       "      <td>0</td>\n",
       "      <td>0</td>\n",
       "    </tr>\n",
       "    <tr>\n",
       "      <th>10</th>\n",
       "      <td>2013</td>\n",
       "      <td>4</td>\n",
       "      <td>358.92</td>\n",
       "      <td>0</td>\n",
       "      <td>0</td>\n",
       "      <td>0</td>\n",
       "      <td>0</td>\n",
       "      <td>0</td>\n",
       "      <td>0</td>\n",
       "      <td>0</td>\n",
       "      <td>...</td>\n",
       "      <td>0</td>\n",
       "      <td>0</td>\n",
       "      <td>0</td>\n",
       "      <td>0</td>\n",
       "      <td>0</td>\n",
       "      <td>1</td>\n",
       "      <td>0</td>\n",
       "      <td>0</td>\n",
       "      <td>0</td>\n",
       "      <td>0</td>\n",
       "    </tr>\n",
       "  </tbody>\n",
       "</table>\n",
       "<p>5 rows × 67 columns</p>\n",
       "</div>"
      ],
      "text/plain": [
       "    Year  quarter    fare  carrier_lg_AS  carrier_lg_B6  carrier_lg_CO  \\\n",
       "1   2008        3  257.30              0              0              0   \n",
       "5   2015        1  204.18              0              0              0   \n",
       "6   2017        4  170.86              0              0              0   \n",
       "7   2003        1   82.55              0              0              0   \n",
       "10  2013        4  358.92              0              0              0   \n",
       "\n",
       "    carrier_lg_DL  carrier_lg_F9  carrier_lg_FL  carrier_lg_G4  ...  \\\n",
       "1               0              0              0              0  ...   \n",
       "5               0              0              0              0  ...   \n",
       "6               1              0              0              0  ...   \n",
       "7               0              0              0              0  ...   \n",
       "10              0              0              0              0  ...   \n",
       "\n",
       "    ArrivalCity_Pittsburgh  ArrivalCity_Portland  ArrivalCity_RaleighDurham  \\\n",
       "1                        0                     0                          0   \n",
       "5                        0                     1                          0   \n",
       "6                        0                     0                          0   \n",
       "7                        0                     0                          0   \n",
       "10                       0                     0                          0   \n",
       "\n",
       "    ArrivalCity_Sacramento  ArrivalCity_Salt  ArrivalCity_San  \\\n",
       "1                        0                 0                0   \n",
       "5                        0                 0                0   \n",
       "6                        0                 0                0   \n",
       "7                        0                 0                1   \n",
       "10                       0                 0                1   \n",
       "\n",
       "    ArrivalCity_Seattle  ArrivalCity_St.  ArrivalCity_Tampa  \\\n",
       "1                     1                0                  0   \n",
       "5                     0                0                  0   \n",
       "6                     0                0                  0   \n",
       "7                     0                0                  0   \n",
       "10                    0                0                  0   \n",
       "\n",
       "    ArrivalCity_Washington  \n",
       "1                        0  \n",
       "5                        0  \n",
       "6                        0  \n",
       "7                        0  \n",
       "10                       0  \n",
       "\n",
       "[5 rows x 67 columns]"
      ]
     },
     "execution_count": 52,
     "metadata": {},
     "output_type": "execute_result"
    }
   ],
   "source": [
    "data_train.head()"
   ]
  },
  {
   "cell_type": "code",
   "execution_count": 53,
   "id": "29dd23a4",
   "metadata": {},
   "outputs": [
    {
     "data": {
      "text/plain": [
       "(39718, 67)"
      ]
     },
     "execution_count": 53,
     "metadata": {},
     "output_type": "execute_result"
    }
   ],
   "source": [
    "data_train.shape"
   ]
  },
  {
   "cell_type": "code",
   "execution_count": 54,
   "id": "e805915c",
   "metadata": {},
   "outputs": [
    {
     "data": {
      "text/plain": [
       "Index(['Year', 'quarter', 'fare', 'carrier_lg_AS', 'carrier_lg_B6',\n",
       "       'carrier_lg_CO', 'carrier_lg_DL', 'carrier_lg_F9', 'carrier_lg_FL',\n",
       "       'carrier_lg_G4', 'carrier_lg_HP', 'carrier_lg_JI', 'carrier_lg_NK',\n",
       "       'carrier_lg_NW', 'carrier_lg_Other', 'carrier_lg_SY', 'carrier_lg_TW',\n",
       "       'carrier_lg_TZ', 'carrier_lg_UA', 'carrier_lg_US', 'carrier_lg_WN',\n",
       "       'carrier_lg_YX', 'DepCity_Atlanta', 'DepCity_Austin', 'DepCity_Boston',\n",
       "       'DepCity_Buffalo', 'DepCity_Charlotte', 'DepCity_Chicago',\n",
       "       'DepCity_Cincinnati', 'DepCity_Cleveland', 'DepCity_Columbus',\n",
       "       'DepCity_DallasFort', 'DepCity_Denver', 'DepCity_Detroit',\n",
       "       'DepCity_Hartford', 'DepCity_Houston', 'DepCity_Indianapolis',\n",
       "       'DepCity_Kansas', 'DepCity_Las', 'DepCity_Los', 'DepCity_Miami',\n",
       "       'DepCity_MinneapolisSt.', 'DepCity_Nashville', 'DepCity_New',\n",
       "       'DepCity_Orlando', 'DepCity_Philadelphia', 'DepCity_Phoenix',\n",
       "       'DepCity_San', 'ArrivalCity_Las', 'ArrivalCity_Los',\n",
       "       'ArrivalCity_Miami', 'ArrivalCity_MinneapolisSt.',\n",
       "       'ArrivalCity_Nashville', 'ArrivalCity_New', 'ArrivalCity_Orlando',\n",
       "       'ArrivalCity_Philadelphia', 'ArrivalCity_Phoenix',\n",
       "       'ArrivalCity_Pittsburgh', 'ArrivalCity_Portland',\n",
       "       'ArrivalCity_RaleighDurham', 'ArrivalCity_Sacramento',\n",
       "       'ArrivalCity_Salt', 'ArrivalCity_San', 'ArrivalCity_Seattle',\n",
       "       'ArrivalCity_St.', 'ArrivalCity_Tampa', 'ArrivalCity_Washington'],\n",
       "      dtype='object')"
      ]
     },
     "execution_count": 54,
     "metadata": {},
     "output_type": "execute_result"
    }
   ],
   "source": [
    "data_train.columns"
   ]
  },
  {
   "cell_type": "code",
   "execution_count": 55,
   "id": "a6976f1c",
   "metadata": {},
   "outputs": [
    {
     "data": {
      "text/html": [
       "<div>\n",
       "<style scoped>\n",
       "    .dataframe tbody tr th:only-of-type {\n",
       "        vertical-align: middle;\n",
       "    }\n",
       "\n",
       "    .dataframe tbody tr th {\n",
       "        vertical-align: top;\n",
       "    }\n",
       "\n",
       "    .dataframe thead th {\n",
       "        text-align: right;\n",
       "    }\n",
       "</style>\n",
       "<table border=\"1\" class=\"dataframe\">\n",
       "  <thead>\n",
       "    <tr style=\"text-align: right;\">\n",
       "      <th></th>\n",
       "      <th>Year</th>\n",
       "      <th>quarter</th>\n",
       "      <th>carrier_lg_AS</th>\n",
       "      <th>carrier_lg_B6</th>\n",
       "      <th>carrier_lg_CO</th>\n",
       "      <th>carrier_lg_DL</th>\n",
       "      <th>carrier_lg_F9</th>\n",
       "      <th>carrier_lg_FL</th>\n",
       "      <th>carrier_lg_G4</th>\n",
       "      <th>carrier_lg_HP</th>\n",
       "      <th>...</th>\n",
       "      <th>ArrivalCity_Pittsburgh</th>\n",
       "      <th>ArrivalCity_Portland</th>\n",
       "      <th>ArrivalCity_RaleighDurham</th>\n",
       "      <th>ArrivalCity_Sacramento</th>\n",
       "      <th>ArrivalCity_Salt</th>\n",
       "      <th>ArrivalCity_San</th>\n",
       "      <th>ArrivalCity_Seattle</th>\n",
       "      <th>ArrivalCity_St.</th>\n",
       "      <th>ArrivalCity_Tampa</th>\n",
       "      <th>ArrivalCity_Washington</th>\n",
       "    </tr>\n",
       "  </thead>\n",
       "  <tbody>\n",
       "    <tr>\n",
       "      <th>1</th>\n",
       "      <td>2008</td>\n",
       "      <td>3</td>\n",
       "      <td>0</td>\n",
       "      <td>0</td>\n",
       "      <td>0</td>\n",
       "      <td>0</td>\n",
       "      <td>0</td>\n",
       "      <td>0</td>\n",
       "      <td>0</td>\n",
       "      <td>0</td>\n",
       "      <td>...</td>\n",
       "      <td>0</td>\n",
       "      <td>0</td>\n",
       "      <td>0</td>\n",
       "      <td>0</td>\n",
       "      <td>0</td>\n",
       "      <td>0</td>\n",
       "      <td>1</td>\n",
       "      <td>0</td>\n",
       "      <td>0</td>\n",
       "      <td>0</td>\n",
       "    </tr>\n",
       "    <tr>\n",
       "      <th>5</th>\n",
       "      <td>2015</td>\n",
       "      <td>1</td>\n",
       "      <td>0</td>\n",
       "      <td>0</td>\n",
       "      <td>0</td>\n",
       "      <td>0</td>\n",
       "      <td>0</td>\n",
       "      <td>0</td>\n",
       "      <td>0</td>\n",
       "      <td>0</td>\n",
       "      <td>...</td>\n",
       "      <td>0</td>\n",
       "      <td>1</td>\n",
       "      <td>0</td>\n",
       "      <td>0</td>\n",
       "      <td>0</td>\n",
       "      <td>0</td>\n",
       "      <td>0</td>\n",
       "      <td>0</td>\n",
       "      <td>0</td>\n",
       "      <td>0</td>\n",
       "    </tr>\n",
       "    <tr>\n",
       "      <th>6</th>\n",
       "      <td>2017</td>\n",
       "      <td>4</td>\n",
       "      <td>0</td>\n",
       "      <td>0</td>\n",
       "      <td>0</td>\n",
       "      <td>1</td>\n",
       "      <td>0</td>\n",
       "      <td>0</td>\n",
       "      <td>0</td>\n",
       "      <td>0</td>\n",
       "      <td>...</td>\n",
       "      <td>0</td>\n",
       "      <td>0</td>\n",
       "      <td>0</td>\n",
       "      <td>0</td>\n",
       "      <td>0</td>\n",
       "      <td>0</td>\n",
       "      <td>0</td>\n",
       "      <td>0</td>\n",
       "      <td>0</td>\n",
       "      <td>0</td>\n",
       "    </tr>\n",
       "    <tr>\n",
       "      <th>7</th>\n",
       "      <td>2003</td>\n",
       "      <td>1</td>\n",
       "      <td>0</td>\n",
       "      <td>0</td>\n",
       "      <td>0</td>\n",
       "      <td>0</td>\n",
       "      <td>0</td>\n",
       "      <td>0</td>\n",
       "      <td>0</td>\n",
       "      <td>0</td>\n",
       "      <td>...</td>\n",
       "      <td>0</td>\n",
       "      <td>0</td>\n",
       "      <td>0</td>\n",
       "      <td>0</td>\n",
       "      <td>0</td>\n",
       "      <td>1</td>\n",
       "      <td>0</td>\n",
       "      <td>0</td>\n",
       "      <td>0</td>\n",
       "      <td>0</td>\n",
       "    </tr>\n",
       "    <tr>\n",
       "      <th>10</th>\n",
       "      <td>2013</td>\n",
       "      <td>4</td>\n",
       "      <td>0</td>\n",
       "      <td>0</td>\n",
       "      <td>0</td>\n",
       "      <td>0</td>\n",
       "      <td>0</td>\n",
       "      <td>0</td>\n",
       "      <td>0</td>\n",
       "      <td>0</td>\n",
       "      <td>...</td>\n",
       "      <td>0</td>\n",
       "      <td>0</td>\n",
       "      <td>0</td>\n",
       "      <td>0</td>\n",
       "      <td>0</td>\n",
       "      <td>1</td>\n",
       "      <td>0</td>\n",
       "      <td>0</td>\n",
       "      <td>0</td>\n",
       "      <td>0</td>\n",
       "    </tr>\n",
       "  </tbody>\n",
       "</table>\n",
       "<p>5 rows × 63 columns</p>\n",
       "</div>"
      ],
      "text/plain": [
       "    Year  quarter  carrier_lg_AS  carrier_lg_B6  carrier_lg_CO  carrier_lg_DL  \\\n",
       "1   2008        3              0              0              0              0   \n",
       "5   2015        1              0              0              0              0   \n",
       "6   2017        4              0              0              0              1   \n",
       "7   2003        1              0              0              0              0   \n",
       "10  2013        4              0              0              0              0   \n",
       "\n",
       "    carrier_lg_F9  carrier_lg_FL  carrier_lg_G4  carrier_lg_HP  ...  \\\n",
       "1               0              0              0              0  ...   \n",
       "5               0              0              0              0  ...   \n",
       "6               0              0              0              0  ...   \n",
       "7               0              0              0              0  ...   \n",
       "10              0              0              0              0  ...   \n",
       "\n",
       "    ArrivalCity_Pittsburgh  ArrivalCity_Portland  ArrivalCity_RaleighDurham  \\\n",
       "1                        0                     0                          0   \n",
       "5                        0                     1                          0   \n",
       "6                        0                     0                          0   \n",
       "7                        0                     0                          0   \n",
       "10                       0                     0                          0   \n",
       "\n",
       "    ArrivalCity_Sacramento  ArrivalCity_Salt  ArrivalCity_San  \\\n",
       "1                        0                 0                0   \n",
       "5                        0                 0                0   \n",
       "6                        0                 0                0   \n",
       "7                        0                 0                1   \n",
       "10                       0                 0                1   \n",
       "\n",
       "    ArrivalCity_Seattle  ArrivalCity_St.  ArrivalCity_Tampa  \\\n",
       "1                     1                0                  0   \n",
       "5                     0                0                  0   \n",
       "6                     0                0                  0   \n",
       "7                     0                0                  0   \n",
       "10                    0                0                  0   \n",
       "\n",
       "    ArrivalCity_Washington  \n",
       "1                        0  \n",
       "5                        0  \n",
       "6                        0  \n",
       "7                        0  \n",
       "10                       0  \n",
       "\n",
       "[5 rows x 63 columns]"
      ]
     },
     "execution_count": 55,
     "metadata": {},
     "output_type": "execute_result"
    }
   ],
   "source": [
    "X = data_train.loc[:, ['Year', 'quarter', 'carrier_lg_AS',\n",
    "       'carrier_lg_B6', 'carrier_lg_CO', 'carrier_lg_DL', 'carrier_lg_F9',\n",
    "       'carrier_lg_FL', 'carrier_lg_G4', 'carrier_lg_HP', 'carrier_lg_NK',\n",
    "       'carrier_lg_NW', 'carrier_lg_Other', 'carrier_lg_TW', 'carrier_lg_UA',\n",
    "       'carrier_lg_US', 'carrier_lg_WN', 'carrier_lg_YX', 'DepCity_Atlanta',\n",
    "       'DepCity_Austin', 'DepCity_Boston', 'DepCity_Buffalo',\n",
    "       'DepCity_Charlotte', 'DepCity_Chicago', 'DepCity_Cincinnati',\n",
    "       'DepCity_Cleveland', 'DepCity_Columbus', 'DepCity_DallasFort',\n",
    "       'DepCity_Denver', 'DepCity_Detroit', 'DepCity_Hartford',\n",
    "       'DepCity_Houston', 'DepCity_Indianapolis', 'DepCity_Kansas',\n",
    "       'DepCity_Las', 'DepCity_Los', 'DepCity_Miami', 'DepCity_MinneapolisSt.',\n",
    "       'DepCity_Nashville', 'DepCity_New', 'DepCity_Orlando',\n",
    "       'DepCity_Philadelphia', 'DepCity_Phoenix', 'DepCity_San',\n",
    "       'ArrivalCity_Las', 'ArrivalCity_Los', 'ArrivalCity_Miami',\n",
    "       'ArrivalCity_MinneapolisSt.', 'ArrivalCity_Nashville',\n",
    "       'ArrivalCity_New', 'ArrivalCity_Orlando', 'ArrivalCity_Philadelphia',\n",
    "       'ArrivalCity_Phoenix', 'ArrivalCity_Pittsburgh', 'ArrivalCity_Portland',\n",
    "       'ArrivalCity_RaleighDurham', 'ArrivalCity_Sacramento',\n",
    "       'ArrivalCity_Salt', 'ArrivalCity_San', 'ArrivalCity_Seattle',\n",
    "       'ArrivalCity_St.', 'ArrivalCity_Tampa', 'ArrivalCity_Washington']]\n",
    "\n",
    "X.head()"
   ]
  },
  {
   "cell_type": "code",
   "execution_count": 56,
   "id": "fc436076",
   "metadata": {},
   "outputs": [
    {
     "data": {
      "text/plain": [
       "1     257.30\n",
       "5     204.18\n",
       "6     170.86\n",
       "7      82.55\n",
       "10    358.92\n",
       "Name: fare, dtype: float64"
      ]
     },
     "execution_count": 56,
     "metadata": {},
     "output_type": "execute_result"
    }
   ],
   "source": [
    "y = data_train.iloc[:, 2]\n",
    "y.head()"
   ]
  },
  {
   "cell_type": "code",
   "execution_count": 57,
   "id": "62ab9af7",
   "metadata": {},
   "outputs": [
    {
     "data": {
      "image/png": "[encoded data removed]",
      "text/plain": [
       "<Figure size 1296x1296 with 2 Axes>"
      ]
     },
     "metadata": {
      "needs_background": "light"
     },
     "output_type": "display_data"
    }
   ],
   "source": [
    "# Finds correlation between Independent and dependent attributes\n",
    "\n",
    "plt.figure(figsize = (18,18))\n",
    "sns.heatmap(train_data.corr(), annot = True, cmap = \"RdYlGn\")\n",
    "\n",
    "plt.show()"
   ]
  },
  {
   "cell_type": "code",
   "execution_count": 58,
   "id": "ed3f123e",
   "metadata": {},
   "outputs": [
    {
     "data": {
      "text/plain": [
       "ExtraTreesRegressor()"
      ]
     },
     "execution_count": 58,
     "metadata": {},
     "output_type": "execute_result"
    }
   ],
   "source": [
    "# Important feature using ExtraTreesRegressor\n",
    "from sklearn.ensemble import ExtraTreesRegressor\n",
    "selection = ExtraTreesRegressor()\n",
    "selection.fit(X, y)"
   ]
  },
  {
   "cell_type": "code",
   "execution_count": 59,
   "id": "6cd3ab76",
   "metadata": {},
   "outputs": [
    {
     "name": "stdout",
     "output_type": "stream",
     "text": [
      "[2.40297500e-01 3.35038456e-02 1.35618315e-02 3.36219057e-03\n",
      " 4.51763935e-03 9.26922043e-03 2.16308069e-03 9.05971864e-04\n",
      " 1.03398604e-04 2.01232732e-03 2.60461696e-04 2.46530848e-03\n",
      " 7.05531673e-04 8.00707662e-04 1.47262748e-02 1.16977195e-02\n",
      " 9.56534696e-02 1.44935753e-04 9.46188151e-03 1.00870085e-02\n",
      " 1.38355093e-02 7.02244988e-03 1.06963816e-02 1.28849259e-02\n",
      " 1.37813257e-02 7.60315329e-03 1.00418563e-02 1.83021425e-02\n",
      " 1.99535697e-02 7.66688064e-03 8.77995036e-03 9.87737296e-03\n",
      " 9.60909217e-03 1.15935900e-02 1.39233232e-02 3.65292443e-02\n",
      " 9.93593746e-03 1.12649670e-02 4.47550315e-03 1.12150735e-02\n",
      " 1.22186915e-02 7.08895520e-03 1.01896700e-02 1.21234105e-02\n",
      " 1.09966724e-02 9.08209923e-03 1.35255977e-02 9.21341675e-03\n",
      " 8.70353036e-03 1.39975377e-02 2.56983195e-02 1.00184005e-02\n",
      " 1.27421738e-02 7.20632013e-03 7.93278768e-03 1.42048052e-02\n",
      " 1.07603258e-02 8.16034320e-03 3.91025180e-02 8.23100278e-03\n",
      " 1.06240896e-02 1.74935596e-02 1.59932194e-02]\n"
     ]
    }
   ],
   "source": [
    "print(selection.feature_importances_)"
   ]
  },
  {
   "cell_type": "code",
   "execution_count": 60,
   "id": "e46421f9",
   "metadata": {},
   "outputs": [
    {
     "data": {
      "image/png": "[encoded data removed]",
      "text/plain": [
       "<Figure size 864x576 with 1 Axes>"
      ]
     },
     "metadata": {
      "needs_background": "light"
     },
     "output_type": "display_data"
    }
   ],
   "source": [
    "#plot graph of feature importances for better visualization\n",
    "\n",
    "plt.figure(figsize = (12,8))\n",
    "feat_importances = pd.Series(selection.feature_importances_, index=X.columns)\n",
    "feat_importances.nlargest(20).plot(kind='barh')\n",
    "plt.show()"
   ]
  },
  {
   "cell_type": "code",
   "execution_count": 61,
   "id": "4b9fa55d",
   "metadata": {},
   "outputs": [],
   "source": [
    "from sklearn.model_selection import train_test_split\n",
    "X_train, X_test, y_train, y_test = train_test_split(X, y, test_size = 0.2, random_state = 42)"
   ]
  },
  {
   "cell_type": "code",
   "execution_count": 63,
   "id": "e35324b3",
   "metadata": {},
   "outputs": [
    {
     "name": "stderr",
     "output_type": "stream",
     "text": [
      "C:\\Users\\rups1\\anaconda3\\lib\\site-packages\\xgboost\\data.py:250: FutureWarning: pandas.Int64Index is deprecated and will be removed from pandas in a future version. Use pandas.Index with the appropriate dtype instead.\n",
      "  elif isinstance(data.columns, (pd.Int64Index, pd.RangeIndex)):\n"
     ]
    },
    {
     "data": {
      "text/plain": [
       "XGBRegressor(base_score=0.5, booster='gbtree', colsample_bylevel=1,\n",
       "             colsample_bynode=1, colsample_bytree=1, enable_categorical=False,\n",
       "             gamma=0, gpu_id=-1, importance_type=None,\n",
       "             interaction_constraints='', learning_rate=0.300000012,\n",
       "             max_delta_step=0, max_depth=6, min_child_weight=1, missing=nan,\n",
       "             monotone_constraints='()', n_estimators=100, n_jobs=8,\n",
       "             num_parallel_tree=1, predictor='auto', random_state=0, reg_alpha=0,\n",
       "             reg_lambda=1, scale_pos_weight=1, subsample=1, tree_method='exact',\n",
       "             validate_parameters=1, verbosity=None)"
      ]
     },
     "execution_count": 63,
     "metadata": {},
     "output_type": "execute_result"
    }
   ],
   "source": [
    "from xgboost import XGBRegressor \n",
    "from sklearn.ensemble import RandomForestRegressor\n",
    "\n",
    "reg_rf = RandomForestRegressor()\n",
    "xgboost_model = XGBRegressor()\n",
    "\n",
    "reg_rf.fit(X_train, y_train)\n",
    "xgboost_model.fit(X_train, y_train)"
   ]
  },
  {
   "cell_type": "code",
   "execution_count": 62,
   "id": "51ddcd59",
   "metadata": {},
   "outputs": [],
   "source": [
    "################### EXPERIMENT FOR Linear Regressor   #############"
   ]
  },
  {
   "cell_type": "code",
   "execution_count": 63,
   "id": "2749a468",
   "metadata": {},
   "outputs": [
    {
     "data": {
      "text/plain": [
       "LinearRegression()"
      ]
     },
     "execution_count": 63,
     "metadata": {},
     "output_type": "execute_result"
    }
   ],
   "source": [
    "from sklearn.linear_model import LinearRegression, Ridge, Lasso, ElasticNet\n",
    "Lin = LinearRegression()\n",
    "Lin.fit(X_train, y_train)"
   ]
  },
  {
   "cell_type": "code",
   "execution_count": 64,
   "id": "335c82e2",
   "metadata": {},
   "outputs": [],
   "source": [
    "y_pred = Lin.predict(X_test)"
   ]
  },
  {
   "cell_type": "code",
   "execution_count": 65,
   "id": "3e84d876",
   "metadata": {},
   "outputs": [
    {
     "data": {
      "text/plain": [
       "0.3441910602134681"
      ]
     },
     "execution_count": 65,
     "metadata": {},
     "output_type": "execute_result"
    }
   ],
   "source": [
    "Lin.score(X_train, y_train)"
   ]
  },
  {
   "cell_type": "code",
   "execution_count": 66,
   "id": "580f1fa3",
   "metadata": {},
   "outputs": [
    {
     "data": {
      "text/plain": [
       "0.34628209495865603"
      ]
     },
     "execution_count": 66,
     "metadata": {},
     "output_type": "execute_result"
    }
   ],
   "source": [
    "Lin.score(X_test, y_test)"
   ]
  },
  {
   "cell_type": "code",
   "execution_count": 67,
   "id": "120c2f91",
   "metadata": {},
   "outputs": [],
   "source": [
    "import pickle\n",
    "# open a file, where you ant to store the data\n",
    "file = open('flight1_rf.pkl', 'wb')\n",
    "\n",
    "# dump information to that file\n",
    "pickle.dump(Lin, file)"
   ]
  },
  {
   "cell_type": "code",
   "execution_count": 68,
   "id": "460ab6b2",
   "metadata": {},
   "outputs": [
    {
     "ename": "EOFError",
     "evalue": "Ran out of input",
     "output_type": "error",
     "traceback": [
      "\u001b[1;31m---------------------------------------------------------------------------\u001b[0m",
      "\u001b[1;31mEOFError\u001b[0m                                  Traceback (most recent call last)",
      "Input \u001b[1;32mIn [68]\u001b[0m, in \u001b[0;36m<cell line: 2>\u001b[1;34m()\u001b[0m\n\u001b[0;32m      1\u001b[0m model \u001b[38;5;241m=\u001b[39m \u001b[38;5;28mopen\u001b[39m(\u001b[38;5;124m'\u001b[39m\u001b[38;5;124mflight1_rf.pkl\u001b[39m\u001b[38;5;124m'\u001b[39m,\u001b[38;5;124m'\u001b[39m\u001b[38;5;124mrb\u001b[39m\u001b[38;5;124m'\u001b[39m)\n\u001b[1;32m----> 2\u001b[0m forest \u001b[38;5;241m=\u001b[39m \u001b[43mpickle\u001b[49m\u001b[38;5;241;43m.\u001b[39;49m\u001b[43mload\u001b[49m\u001b[43m \u001b[49m\u001b[43m(\u001b[49m\u001b[43mmodel\u001b[49m\u001b[43m)\u001b[49m\n",
      "\u001b[1;31mEOFError\u001b[0m: Ran out of input"
     ]
    }
   ],
   "source": [
    "model = open('flight1_rf.pkl','rb')\n",
    "forest = pickle.load (model)"
   ]
  },
  {
   "cell_type": "code",
   "execution_count": 76,
   "id": "81b7c117",
   "metadata": {},
   "outputs": [],
   "source": [
    "y_prediction = forest.predict(X_test)"
   ]
  },
  {
   "cell_type": "code",
   "execution_count": 70,
   "id": "e80a7b42",
   "metadata": {},
   "outputs": [
    {
     "ename": "NameError",
     "evalue": "name 'metrics' is not defined",
     "output_type": "error",
     "traceback": [
      "\u001b[1;31m---------------------------------------------------------------------------\u001b[0m",
      "\u001b[1;31mNameError\u001b[0m                                 Traceback (most recent call last)",
      "Input \u001b[1;32mIn [70]\u001b[0m, in \u001b[0;36m<cell line: 1>\u001b[1;34m()\u001b[0m\n\u001b[1;32m----> 1\u001b[0m \u001b[43mmetrics\u001b[49m\u001b[38;5;241m.\u001b[39mr2_score(y_test, y_prediction)\n",
      "\u001b[1;31mNameError\u001b[0m: name 'metrics' is not defined"
     ]
    }
   ],
   "source": []
  },
  {
   "cell_type": "code",
   "execution_count": 71,
   "id": "a69650dc",
   "metadata": {},
   "outputs": [
    {
     "name": "stdout",
     "output_type": "stream",
     "text": [
      "MAE: 47.880710913349525\n",
      "MSE: 3314.365010422435\n",
      "RMSE: 57.57052206140253\n"
     ]
    }
   ],
   "source": [
    "from sklearn import metrics\n",
    "print('MAE:', metrics.mean_absolute_error(y_test, y_pred))\n",
    "print('MSE:', metrics.mean_squared_error(y_test, y_pred))\n",
    "print('RMSE:', np.sqrt(metrics.mean_squared_error(y_test, y_pred)))"
   ]
  },
  {
   "cell_type": "code",
   "execution_count": 77,
   "id": "b5ac3b8d",
   "metadata": {},
   "outputs": [
    {
     "name": "stderr",
     "output_type": "stream",
     "text": [
      "C:\\Users\\rups1\\anaconda3\\lib\\site-packages\\seaborn\\distributions.py:2619: FutureWarning: `distplot` is a deprecated function and will be removed in a future version. Please adapt your code to use either `displot` (a figure-level function with similar flexibility) or `histplot` (an axes-level function for histograms).\n",
      "  warnings.warn(msg, FutureWarning)\n"
     ]
    },
    {
     "data": {
      "image/png": "[encoded data removed]",
      "text/plain": [
       "<Figure size 432x288 with 1 Axes>"
      ]
     },
     "metadata": {
      "needs_background": "light"
     },
     "output_type": "display_data"
    }
   ],
   "source": [
    "sns.distplot(y_test-y_pred)\n",
    "plt.show()"
   ]
  },
  {
   "cell_type": "code",
   "execution_count": 78,
   "id": "24891412",
   "metadata": {},
   "outputs": [
    {
     "data": {
      "image/png": "[encoded data removed]",
      "text/plain": [
       "<Figure size 432x288 with 1 Axes>"
      ]
     },
     "metadata": {
      "needs_background": "light"
     },
     "output_type": "display_data"
    }
   ],
   "source": [
    "plt.scatter(y_test, y_pred, alpha = 0.5)\n",
    "plt.xlabel(\"y_test\")\n",
    "plt.ylabel(\"y_pred\")\n",
    "plt.show()"
   ]
  },
  {
   "cell_type": "code",
   "execution_count": null,
   "id": "5c7fab04",
   "metadata": {},
   "outputs": [],
   "source": []
  },
  {
   "cell_type": "code",
   "execution_count": null,
   "id": "e824d6b8",
   "metadata": {},
   "outputs": [],
   "source": []
  },
  {
   "cell_type": "code",
   "execution_count": null,
   "id": "9e316d2c",
   "metadata": {},
   "outputs": [],
   "source": []
  },
  {
   "cell_type": "code",
   "execution_count": null,
   "id": "003785e0",
   "metadata": {},
   "outputs": [],
   "source": []
  },
  {
   "cell_type": "code",
   "execution_count": null,
   "id": "32c65b25",
   "metadata": {},
   "outputs": [],
   "source": [
    "#################### END #########################################"
   ]
  },
  {
   "cell_type": "code",
   "execution_count": 64,
   "id": "0381f2c0",
   "metadata": {},
   "outputs": [],
   "source": [
    "y_pred_reg_rf = reg_rf.predict(X_test)\n",
    "y_pred_xgboost = xgboost_model.predict(X_test)"
   ]
  },
  {
   "cell_type": "code",
   "execution_count": 65,
   "id": "fd879d87",
   "metadata": {},
   "outputs": [
    {
     "name": "stdout",
     "output_type": "stream",
     "text": [
      "0.9570602504380393\n",
      "0.8327145995491019\n"
     ]
    }
   ],
   "source": [
    "print(reg_rf.score(X_train, y_train))\n",
    "print(xgboost_model.score(X_train, y_train))"
   ]
  },
  {
   "cell_type": "code",
   "execution_count": 66,
   "id": "f31c040f",
   "metadata": {},
   "outputs": [
    {
     "name": "stdout",
     "output_type": "stream",
     "text": [
      "1.0\n",
      "1.0\n"
     ]
    }
   ],
   "source": [
    "print(reg_rf.score(X_test, y_pred_reg_rf))\n",
    "print(xgboost_model.score(X_test, y_pred_xgboost))"
   ]
  },
  {
   "cell_type": "code",
   "execution_count": 67,
   "id": "f1f62cf9",
   "metadata": {},
   "outputs": [
    {
     "name": "stderr",
     "output_type": "stream",
     "text": [
      "C:\\Users\\rups1\\anaconda3\\lib\\site-packages\\seaborn\\distributions.py:2619: FutureWarning: `distplot` is a deprecated function and will be removed in a future version. Please adapt your code to use either `displot` (a figure-level function with similar flexibility) or `histplot` (an axes-level function for histograms).\n",
      "  warnings.warn(msg, FutureWarning)\n"
     ]
    },
    {
     "data": {
      "image/png": "[encoded data removed]",
      "text/plain": [
       "<Figure size 432x288 with 1 Axes>"
      ]
     },
     "metadata": {
      "needs_background": "light"
     },
     "output_type": "display_data"
    }
   ],
   "source": [
    "sns.distplot(y_test-y_pred_reg_rf)\n",
    "plt.show()"
   ]
  },
  {
   "cell_type": "code",
   "execution_count": 68,
   "id": "ec2b546e",
   "metadata": {},
   "outputs": [
    {
     "name": "stderr",
     "output_type": "stream",
     "text": [
      "C:\\Users\\rups1\\anaconda3\\lib\\site-packages\\seaborn\\distributions.py:2619: FutureWarning: `distplot` is a deprecated function and will be removed in a future version. Please adapt your code to use either `displot` (a figure-level function with similar flexibility) or `histplot` (an axes-level function for histograms).\n",
      "  warnings.warn(msg, FutureWarning)\n"
     ]
    },
    {
     "data": {
      "image/png": "[encoded data removed]",
      "text/plain": [
       "<Figure size 432x288 with 1 Axes>"
      ]
     },
     "metadata": {
      "needs_background": "light"
     },
     "output_type": "display_data"
    }
   ],
   "source": [
    "sns.distplot(y_test-y_pred_xgboost)\n",
    "plt.show()"
   ]
  },
  {
   "cell_type": "code",
   "execution_count": 69,
   "id": "0e0f27d4",
   "metadata": {},
   "outputs": [
    {
     "data": {
      "image/png": "[encoded data removed]",
      "text/plain": [
       "<Figure size 432x288 with 1 Axes>"
      ]
     },
     "metadata": {
      "needs_background": "light"
     },
     "output_type": "display_data"
    }
   ],
   "source": [
    "#Scatter plot of Target and Predicted¶\n",
    "plt.scatter(y_test, y_pred_reg_rf, alpha = 0.5)\n",
    "plt.xlabel(\"y_test\")\n",
    "plt.ylabel(\"y_pred\")\n",
    "plt.show()"
   ]
  },
  {
   "cell_type": "code",
   "execution_count": 72,
   "id": "e3b8921e",
   "metadata": {
    "scrolled": true
   },
   "outputs": [
    {
     "data": {
      "image/png": "[encoded data removed]",
      "text/plain": [
       "<Figure size 432x288 with 1 Axes>"
      ]
     },
     "metadata": {
      "needs_background": "light"
     },
     "output_type": "display_data"
    }
   ],
   "source": [
    "plt.scatter(y_test, y_pred_xgboost, alpha = 0.5)\n",
    "plt.xlabel(\"y_test\")\n",
    "plt.ylabel(\"y_pred\")\n",
    "plt.show()"
   ]
  },
  {
   "cell_type": "code",
   "execution_count": 74,
   "id": "1bff34f9",
   "metadata": {},
   "outputs": [],
   "source": [
    "from sklearn import metrics"
   ]
  },
  {
   "cell_type": "code",
   "execution_count": 75,
   "id": "eb49ecc1",
   "metadata": {},
   "outputs": [
    {
     "name": "stdout",
     "output_type": "stream",
     "text": [
      "RandomForest\n",
      "MAE: 16.652857496083698\n",
      "MSE: 608.687909651636\n",
      "RMSE: 24.671601278628756\n",
      "XGBoost\n",
      "MAE: 20.11401885381278\n",
      "MSE: 713.214134230489\n",
      "RMSE: 26.706069239603362\n"
     ]
    }
   ],
   "source": [
    "print('RandomForest')\n",
    "print('MAE:', metrics.mean_absolute_error(y_test, y_pred_reg_rf))\n",
    "print('MSE:', metrics.mean_squared_error(y_test, y_pred_reg_rf))\n",
    "print('RMSE:', np.sqrt(metrics.mean_squared_error(y_test, y_pred_reg_rf)))\n",
    "\n",
    "print('XGBoost')\n",
    "print('MAE:', metrics.mean_absolute_error(y_test, y_pred_xgboost))\n",
    "print('MSE:', metrics.mean_squared_error(y_test, y_pred_xgboost))\n",
    "print('RMSE:', np.sqrt(metrics.mean_squared_error(y_test, y_pred_xgboost)))"
   ]
  },
  {
   "cell_type": "code",
   "execution_count": 76,
   "id": "5acb4f92",
   "metadata": {},
   "outputs": [
    {
     "data": {
      "text/plain": [
       "0.8381750444770255"
      ]
     },
     "execution_count": 76,
     "metadata": {},
     "output_type": "execute_result"
    }
   ],
   "source": [
    "metrics.r2_score(y_test, y_pred_reg_rf)"
   ]
  },
  {
   "cell_type": "code",
   "execution_count": 77,
   "id": "d51e5838",
   "metadata": {},
   "outputs": [
    {
     "data": {
      "text/plain": [
       "0.8103858418737767"
      ]
     },
     "execution_count": 77,
     "metadata": {},
     "output_type": "execute_result"
    }
   ],
   "source": [
    "metrics.r2_score(y_test, y_pred_xgboost)"
   ]
  },
  {
   "cell_type": "code",
   "execution_count": 78,
   "id": "3edee74e",
   "metadata": {},
   "outputs": [
    {
     "ename": "SyntaxError",
     "evalue": "invalid syntax (3475540753.py, line 1)",
     "output_type": "error",
     "traceback": [
      "\u001b[1;36m  Input \u001b[1;32mIn [78]\u001b[1;36m\u001b[0m\n\u001b[1;33m    Hyperparameter Tuning\u001b[0m\n\u001b[1;37m                   ^\u001b[0m\n\u001b[1;31mSyntaxError\u001b[0m\u001b[1;31m:\u001b[0m invalid syntax\n"
     ]
    }
   ],
   "source": [
    "Hyperparameter Tuning\n",
    "Choose following method for hyperparameter tuning\n",
    "RandomizedSearchCV --> Fast\n",
    "GridSearchCV\n",
    "Assign hyperparameters in form of dictionery\n",
    "Fit the model\n",
    "Check best paramters and best score"
   ]
  },
  {
   "cell_type": "code",
   "execution_count": 79,
   "id": "263592c8",
   "metadata": {},
   "outputs": [],
   "source": [
    "from sklearn.model_selection import RandomizedSearchCV"
   ]
  },
  {
   "cell_type": "code",
   "execution_count": 80,
   "id": "df9de85d",
   "metadata": {},
   "outputs": [],
   "source": [
    "# Create the random grid for the XGBoost model\n",
    "\n",
    "params = {\n",
    " \"learning_rate\" : [0.05,0.10,0.15,0.20,0.25,0.30],\n",
    " \"max_depth\" : [ 3, 4, 5, 6, 8, 10, 12, 15],\n",
    " \"min_child_weight\" : [ 1, 3, 5, 7 ],\n",
    " \"gamma\": [ 0.0, 0.1, 0.2 , 0.3, 0.4 ],\n",
    " \"colsample_bytree\" : [ 0.3, 0.4, 0.5 , 0.7 ]\n",
    "}"
   ]
  },
  {
   "cell_type": "code",
   "execution_count": 81,
   "id": "56aaf5e3",
   "metadata": {},
   "outputs": [],
   "source": [
    "# Random search of parameters, using 5 fold cross validation, \n",
    "# search across 100 different combinations\n",
    "xgb_model_tuned = RandomizedSearchCV(estimator = xgboost_model, param_distributions = params, scoring='neg_mean_squared_error', n_iter = 10, cv = 5, verbose=2, random_state=42, n_jobs = 1)"
   ]
  },
  {
   "cell_type": "code",
   "execution_count": 82,
   "id": "f5028008",
   "metadata": {},
   "outputs": [
    {
     "name": "stdout",
     "output_type": "stream",
     "text": [
      "Fitting 5 folds for each of 10 candidates, totalling 50 fits\n"
     ]
    },
    {
     "name": "stderr",
     "output_type": "stream",
     "text": [
      "C:\\Users\\rups1\\anaconda3\\lib\\site-packages\\xgboost\\data.py:250: FutureWarning: pandas.Int64Index is deprecated and will be removed from pandas in a future version. Use pandas.Index with the appropriate dtype instead.\n",
      "  elif isinstance(data.columns, (pd.Int64Index, pd.RangeIndex)):\n"
     ]
    },
    {
     "name": "stdout",
     "output_type": "stream",
     "text": [
      "[CV] END colsample_bytree=0.7, gamma=0.1, learning_rate=0.2, max_depth=4, min_child_weight=5; total time=   0.8s\n"
     ]
    },
    {
     "name": "stderr",
     "output_type": "stream",
     "text": [
      "C:\\Users\\rups1\\anaconda3\\lib\\site-packages\\xgboost\\data.py:250: FutureWarning: pandas.Int64Index is deprecated and will be removed from pandas in a future version. Use pandas.Index with the appropriate dtype instead.\n",
      "  elif isinstance(data.columns, (pd.Int64Index, pd.RangeIndex)):\n"
     ]
    },
    {
     "name": "stdout",
     "output_type": "stream",
     "text": [
      "[CV] END colsample_bytree=0.7, gamma=0.1, learning_rate=0.2, max_depth=4, min_child_weight=5; total time=   0.8s\n"
     ]
    },
    {
     "name": "stderr",
     "output_type": "stream",
     "text": [
      "C:\\Users\\rups1\\anaconda3\\lib\\site-packages\\xgboost\\data.py:250: FutureWarning: pandas.Int64Index is deprecated and will be removed from pandas in a future version. Use pandas.Index with the appropriate dtype instead.\n",
      "  elif isinstance(data.columns, (pd.Int64Index, pd.RangeIndex)):\n"
     ]
    },
    {
     "name": "stdout",
     "output_type": "stream",
     "text": [
      "[CV] END colsample_bytree=0.7, gamma=0.1, learning_rate=0.2, max_depth=4, min_child_weight=5; total time=   0.8s\n"
     ]
    },
    {
     "name": "stderr",
     "output_type": "stream",
     "text": [
      "C:\\Users\\rups1\\anaconda3\\lib\\site-packages\\xgboost\\data.py:250: FutureWarning: pandas.Int64Index is deprecated and will be removed from pandas in a future version. Use pandas.Index with the appropriate dtype instead.\n",
      "  elif isinstance(data.columns, (pd.Int64Index, pd.RangeIndex)):\n"
     ]
    },
    {
     "name": "stdout",
     "output_type": "stream",
     "text": [
      "[CV] END colsample_bytree=0.7, gamma=0.1, learning_rate=0.2, max_depth=4, min_child_weight=5; total time=   0.7s\n"
     ]
    },
    {
     "name": "stderr",
     "output_type": "stream",
     "text": [
      "C:\\Users\\rups1\\anaconda3\\lib\\site-packages\\xgboost\\data.py:250: FutureWarning: pandas.Int64Index is deprecated and will be removed from pandas in a future version. Use pandas.Index with the appropriate dtype instead.\n",
      "  elif isinstance(data.columns, (pd.Int64Index, pd.RangeIndex)):\n"
     ]
    },
    {
     "name": "stdout",
     "output_type": "stream",
     "text": [
      "[CV] END colsample_bytree=0.7, gamma=0.1, learning_rate=0.2, max_depth=4, min_child_weight=5; total time=   0.8s\n"
     ]
    },
    {
     "name": "stderr",
     "output_type": "stream",
     "text": [
      "C:\\Users\\rups1\\anaconda3\\lib\\site-packages\\xgboost\\data.py:250: FutureWarning: pandas.Int64Index is deprecated and will be removed from pandas in a future version. Use pandas.Index with the appropriate dtype instead.\n",
      "  elif isinstance(data.columns, (pd.Int64Index, pd.RangeIndex)):\n"
     ]
    },
    {
     "name": "stdout",
     "output_type": "stream",
     "text": [
      "[CV] END colsample_bytree=0.7, gamma=0.3, learning_rate=0.1, max_depth=8, min_child_weight=7; total time=   1.6s\n"
     ]
    },
    {
     "name": "stderr",
     "output_type": "stream",
     "text": [
      "C:\\Users\\rups1\\anaconda3\\lib\\site-packages\\xgboost\\data.py:250: FutureWarning: pandas.Int64Index is deprecated and will be removed from pandas in a future version. Use pandas.Index with the appropriate dtype instead.\n",
      "  elif isinstance(data.columns, (pd.Int64Index, pd.RangeIndex)):\n"
     ]
    },
    {
     "name": "stdout",
     "output_type": "stream",
     "text": [
      "[CV] END colsample_bytree=0.7, gamma=0.3, learning_rate=0.1, max_depth=8, min_child_weight=7; total time=   1.8s\n"
     ]
    },
    {
     "name": "stderr",
     "output_type": "stream",
     "text": [
      "C:\\Users\\rups1\\anaconda3\\lib\\site-packages\\xgboost\\data.py:250: FutureWarning: pandas.Int64Index is deprecated and will be removed from pandas in a future version. Use pandas.Index with the appropriate dtype instead.\n",
      "  elif isinstance(data.columns, (pd.Int64Index, pd.RangeIndex)):\n"
     ]
    },
    {
     "name": "stdout",
     "output_type": "stream",
     "text": [
      "[CV] END colsample_bytree=0.7, gamma=0.3, learning_rate=0.1, max_depth=8, min_child_weight=7; total time=   1.6s\n"
     ]
    },
    {
     "name": "stderr",
     "output_type": "stream",
     "text": [
      "C:\\Users\\rups1\\anaconda3\\lib\\site-packages\\xgboost\\data.py:250: FutureWarning: pandas.Int64Index is deprecated and will be removed from pandas in a future version. Use pandas.Index with the appropriate dtype instead.\n",
      "  elif isinstance(data.columns, (pd.Int64Index, pd.RangeIndex)):\n"
     ]
    },
    {
     "name": "stdout",
     "output_type": "stream",
     "text": [
      "[CV] END colsample_bytree=0.7, gamma=0.3, learning_rate=0.1, max_depth=8, min_child_weight=7; total time=   1.6s\n"
     ]
    },
    {
     "name": "stderr",
     "output_type": "stream",
     "text": [
      "C:\\Users\\rups1\\anaconda3\\lib\\site-packages\\xgboost\\data.py:250: FutureWarning: pandas.Int64Index is deprecated and will be removed from pandas in a future version. Use pandas.Index with the appropriate dtype instead.\n",
      "  elif isinstance(data.columns, (pd.Int64Index, pd.RangeIndex)):\n"
     ]
    },
    {
     "name": "stdout",
     "output_type": "stream",
     "text": [
      "[CV] END colsample_bytree=0.7, gamma=0.3, learning_rate=0.1, max_depth=8, min_child_weight=7; total time=   1.9s\n"
     ]
    },
    {
     "name": "stderr",
     "output_type": "stream",
     "text": [
      "C:\\Users\\rups1\\anaconda3\\lib\\site-packages\\xgboost\\data.py:250: FutureWarning: pandas.Int64Index is deprecated and will be removed from pandas in a future version. Use pandas.Index with the appropriate dtype instead.\n",
      "  elif isinstance(data.columns, (pd.Int64Index, pd.RangeIndex)):\n"
     ]
    },
    {
     "name": "stdout",
     "output_type": "stream",
     "text": [
      "[CV] END colsample_bytree=0.3, gamma=0.4, learning_rate=0.15, max_depth=15, min_child_weight=1; total time=   2.3s\n"
     ]
    },
    {
     "name": "stderr",
     "output_type": "stream",
     "text": [
      "C:\\Users\\rups1\\anaconda3\\lib\\site-packages\\xgboost\\data.py:250: FutureWarning: pandas.Int64Index is deprecated and will be removed from pandas in a future version. Use pandas.Index with the appropriate dtype instead.\n",
      "  elif isinstance(data.columns, (pd.Int64Index, pd.RangeIndex)):\n"
     ]
    },
    {
     "name": "stdout",
     "output_type": "stream",
     "text": [
      "[CV] END colsample_bytree=0.3, gamma=0.4, learning_rate=0.15, max_depth=15, min_child_weight=1; total time=   2.2s\n"
     ]
    },
    {
     "name": "stderr",
     "output_type": "stream",
     "text": [
      "C:\\Users\\rups1\\anaconda3\\lib\\site-packages\\xgboost\\data.py:250: FutureWarning: pandas.Int64Index is deprecated and will be removed from pandas in a future version. Use pandas.Index with the appropriate dtype instead.\n",
      "  elif isinstance(data.columns, (pd.Int64Index, pd.RangeIndex)):\n"
     ]
    },
    {
     "name": "stdout",
     "output_type": "stream",
     "text": [
      "[CV] END colsample_bytree=0.3, gamma=0.4, learning_rate=0.15, max_depth=15, min_child_weight=1; total time=   2.2s\n"
     ]
    },
    {
     "name": "stderr",
     "output_type": "stream",
     "text": [
      "C:\\Users\\rups1\\anaconda3\\lib\\site-packages\\xgboost\\data.py:250: FutureWarning: pandas.Int64Index is deprecated and will be removed from pandas in a future version. Use pandas.Index with the appropriate dtype instead.\n",
      "  elif isinstance(data.columns, (pd.Int64Index, pd.RangeIndex)):\n"
     ]
    },
    {
     "name": "stdout",
     "output_type": "stream",
     "text": [
      "[CV] END colsample_bytree=0.3, gamma=0.4, learning_rate=0.15, max_depth=15, min_child_weight=1; total time=   2.2s\n"
     ]
    },
    {
     "name": "stderr",
     "output_type": "stream",
     "text": [
      "C:\\Users\\rups1\\anaconda3\\lib\\site-packages\\xgboost\\data.py:250: FutureWarning: pandas.Int64Index is deprecated and will be removed from pandas in a future version. Use pandas.Index with the appropriate dtype instead.\n",
      "  elif isinstance(data.columns, (pd.Int64Index, pd.RangeIndex)):\n"
     ]
    },
    {
     "name": "stdout",
     "output_type": "stream",
     "text": [
      "[CV] END colsample_bytree=0.3, gamma=0.4, learning_rate=0.15, max_depth=15, min_child_weight=1; total time=   2.2s\n"
     ]
    },
    {
     "name": "stderr",
     "output_type": "stream",
     "text": [
      "C:\\Users\\rups1\\anaconda3\\lib\\site-packages\\xgboost\\data.py:250: FutureWarning: pandas.Int64Index is deprecated and will be removed from pandas in a future version. Use pandas.Index with the appropriate dtype instead.\n",
      "  elif isinstance(data.columns, (pd.Int64Index, pd.RangeIndex)):\n"
     ]
    },
    {
     "name": "stdout",
     "output_type": "stream",
     "text": [
      "[CV] END colsample_bytree=0.4, gamma=0.1, learning_rate=0.25, max_depth=6, min_child_weight=5; total time=   0.9s\n"
     ]
    },
    {
     "name": "stderr",
     "output_type": "stream",
     "text": [
      "C:\\Users\\rups1\\anaconda3\\lib\\site-packages\\xgboost\\data.py:250: FutureWarning: pandas.Int64Index is deprecated and will be removed from pandas in a future version. Use pandas.Index with the appropriate dtype instead.\n",
      "  elif isinstance(data.columns, (pd.Int64Index, pd.RangeIndex)):\n"
     ]
    },
    {
     "name": "stdout",
     "output_type": "stream",
     "text": [
      "[CV] END colsample_bytree=0.4, gamma=0.1, learning_rate=0.25, max_depth=6, min_child_weight=5; total time=   0.9s\n"
     ]
    },
    {
     "name": "stderr",
     "output_type": "stream",
     "text": [
      "C:\\Users\\rups1\\anaconda3\\lib\\site-packages\\xgboost\\data.py:250: FutureWarning: pandas.Int64Index is deprecated and will be removed from pandas in a future version. Use pandas.Index with the appropriate dtype instead.\n",
      "  elif isinstance(data.columns, (pd.Int64Index, pd.RangeIndex)):\n"
     ]
    },
    {
     "name": "stdout",
     "output_type": "stream",
     "text": [
      "[CV] END colsample_bytree=0.4, gamma=0.1, learning_rate=0.25, max_depth=6, min_child_weight=5; total time=   1.0s\n"
     ]
    },
    {
     "name": "stderr",
     "output_type": "stream",
     "text": [
      "C:\\Users\\rups1\\anaconda3\\lib\\site-packages\\xgboost\\data.py:250: FutureWarning: pandas.Int64Index is deprecated and will be removed from pandas in a future version. Use pandas.Index with the appropriate dtype instead.\n",
      "  elif isinstance(data.columns, (pd.Int64Index, pd.RangeIndex)):\n"
     ]
    },
    {
     "name": "stdout",
     "output_type": "stream",
     "text": [
      "[CV] END colsample_bytree=0.4, gamma=0.1, learning_rate=0.25, max_depth=6, min_child_weight=5; total time=   0.9s\n"
     ]
    },
    {
     "name": "stderr",
     "output_type": "stream",
     "text": [
      "C:\\Users\\rups1\\anaconda3\\lib\\site-packages\\xgboost\\data.py:250: FutureWarning: pandas.Int64Index is deprecated and will be removed from pandas in a future version. Use pandas.Index with the appropriate dtype instead.\n",
      "  elif isinstance(data.columns, (pd.Int64Index, pd.RangeIndex)):\n"
     ]
    },
    {
     "name": "stdout",
     "output_type": "stream",
     "text": [
      "[CV] END colsample_bytree=0.4, gamma=0.1, learning_rate=0.25, max_depth=6, min_child_weight=5; total time=   1.0s\n"
     ]
    },
    {
     "name": "stderr",
     "output_type": "stream",
     "text": [
      "C:\\Users\\rups1\\anaconda3\\lib\\site-packages\\xgboost\\data.py:250: FutureWarning: pandas.Int64Index is deprecated and will be removed from pandas in a future version. Use pandas.Index with the appropriate dtype instead.\n",
      "  elif isinstance(data.columns, (pd.Int64Index, pd.RangeIndex)):\n"
     ]
    },
    {
     "name": "stdout",
     "output_type": "stream",
     "text": [
      "[CV] END colsample_bytree=0.4, gamma=0.0, learning_rate=0.3, max_depth=5, min_child_weight=5; total time=   0.8s\n"
     ]
    },
    {
     "name": "stderr",
     "output_type": "stream",
     "text": [
      "C:\\Users\\rups1\\anaconda3\\lib\\site-packages\\xgboost\\data.py:250: FutureWarning: pandas.Int64Index is deprecated and will be removed from pandas in a future version. Use pandas.Index with the appropriate dtype instead.\n",
      "  elif isinstance(data.columns, (pd.Int64Index, pd.RangeIndex)):\n"
     ]
    },
    {
     "name": "stdout",
     "output_type": "stream",
     "text": [
      "[CV] END colsample_bytree=0.4, gamma=0.0, learning_rate=0.3, max_depth=5, min_child_weight=5; total time=   0.8s\n"
     ]
    },
    {
     "name": "stderr",
     "output_type": "stream",
     "text": [
      "C:\\Users\\rups1\\anaconda3\\lib\\site-packages\\xgboost\\data.py:250: FutureWarning: pandas.Int64Index is deprecated and will be removed from pandas in a future version. Use pandas.Index with the appropriate dtype instead.\n",
      "  elif isinstance(data.columns, (pd.Int64Index, pd.RangeIndex)):\n"
     ]
    },
    {
     "name": "stdout",
     "output_type": "stream",
     "text": [
      "[CV] END colsample_bytree=0.4, gamma=0.0, learning_rate=0.3, max_depth=5, min_child_weight=5; total time=   0.8s\n"
     ]
    },
    {
     "name": "stderr",
     "output_type": "stream",
     "text": [
      "C:\\Users\\rups1\\anaconda3\\lib\\site-packages\\xgboost\\data.py:250: FutureWarning: pandas.Int64Index is deprecated and will be removed from pandas in a future version. Use pandas.Index with the appropriate dtype instead.\n",
      "  elif isinstance(data.columns, (pd.Int64Index, pd.RangeIndex)):\n"
     ]
    },
    {
     "name": "stdout",
     "output_type": "stream",
     "text": [
      "[CV] END colsample_bytree=0.4, gamma=0.0, learning_rate=0.3, max_depth=5, min_child_weight=5; total time=   0.8s\n"
     ]
    },
    {
     "name": "stderr",
     "output_type": "stream",
     "text": [
      "C:\\Users\\rups1\\anaconda3\\lib\\site-packages\\xgboost\\data.py:250: FutureWarning: pandas.Int64Index is deprecated and will be removed from pandas in a future version. Use pandas.Index with the appropriate dtype instead.\n",
      "  elif isinstance(data.columns, (pd.Int64Index, pd.RangeIndex)):\n"
     ]
    },
    {
     "name": "stdout",
     "output_type": "stream",
     "text": [
      "[CV] END colsample_bytree=0.4, gamma=0.0, learning_rate=0.3, max_depth=5, min_child_weight=5; total time=   0.8s\n"
     ]
    },
    {
     "name": "stderr",
     "output_type": "stream",
     "text": [
      "C:\\Users\\rups1\\anaconda3\\lib\\site-packages\\xgboost\\data.py:250: FutureWarning: pandas.Int64Index is deprecated and will be removed from pandas in a future version. Use pandas.Index with the appropriate dtype instead.\n",
      "  elif isinstance(data.columns, (pd.Int64Index, pd.RangeIndex)):\n"
     ]
    },
    {
     "name": "stdout",
     "output_type": "stream",
     "text": [
      "[CV] END colsample_bytree=0.4, gamma=0.0, learning_rate=0.25, max_depth=4, min_child_weight=7; total time=   0.7s\n"
     ]
    },
    {
     "name": "stderr",
     "output_type": "stream",
     "text": [
      "C:\\Users\\rups1\\anaconda3\\lib\\site-packages\\xgboost\\data.py:250: FutureWarning: pandas.Int64Index is deprecated and will be removed from pandas in a future version. Use pandas.Index with the appropriate dtype instead.\n",
      "  elif isinstance(data.columns, (pd.Int64Index, pd.RangeIndex)):\n"
     ]
    },
    {
     "name": "stdout",
     "output_type": "stream",
     "text": [
      "[CV] END colsample_bytree=0.4, gamma=0.0, learning_rate=0.25, max_depth=4, min_child_weight=7; total time=   0.7s\n"
     ]
    },
    {
     "name": "stderr",
     "output_type": "stream",
     "text": [
      "C:\\Users\\rups1\\anaconda3\\lib\\site-packages\\xgboost\\data.py:250: FutureWarning: pandas.Int64Index is deprecated and will be removed from pandas in a future version. Use pandas.Index with the appropriate dtype instead.\n",
      "  elif isinstance(data.columns, (pd.Int64Index, pd.RangeIndex)):\n"
     ]
    },
    {
     "name": "stdout",
     "output_type": "stream",
     "text": [
      "[CV] END colsample_bytree=0.4, gamma=0.0, learning_rate=0.25, max_depth=4, min_child_weight=7; total time=   0.6s\n"
     ]
    },
    {
     "name": "stderr",
     "output_type": "stream",
     "text": [
      "C:\\Users\\rups1\\anaconda3\\lib\\site-packages\\xgboost\\data.py:250: FutureWarning: pandas.Int64Index is deprecated and will be removed from pandas in a future version. Use pandas.Index with the appropriate dtype instead.\n",
      "  elif isinstance(data.columns, (pd.Int64Index, pd.RangeIndex)):\n"
     ]
    },
    {
     "name": "stdout",
     "output_type": "stream",
     "text": [
      "[CV] END colsample_bytree=0.4, gamma=0.0, learning_rate=0.25, max_depth=4, min_child_weight=7; total time=   0.7s\n"
     ]
    },
    {
     "name": "stderr",
     "output_type": "stream",
     "text": [
      "C:\\Users\\rups1\\anaconda3\\lib\\site-packages\\xgboost\\data.py:250: FutureWarning: pandas.Int64Index is deprecated and will be removed from pandas in a future version. Use pandas.Index with the appropriate dtype instead.\n",
      "  elif isinstance(data.columns, (pd.Int64Index, pd.RangeIndex)):\n"
     ]
    },
    {
     "name": "stdout",
     "output_type": "stream",
     "text": [
      "[CV] END colsample_bytree=0.4, gamma=0.0, learning_rate=0.25, max_depth=4, min_child_weight=7; total time=   0.7s\n"
     ]
    },
    {
     "name": "stderr",
     "output_type": "stream",
     "text": [
      "C:\\Users\\rups1\\anaconda3\\lib\\site-packages\\xgboost\\data.py:250: FutureWarning: pandas.Int64Index is deprecated and will be removed from pandas in a future version. Use pandas.Index with the appropriate dtype instead.\n",
      "  elif isinstance(data.columns, (pd.Int64Index, pd.RangeIndex)):\n"
     ]
    },
    {
     "name": "stdout",
     "output_type": "stream",
     "text": [
      "[CV] END colsample_bytree=0.7, gamma=0.4, learning_rate=0.2, max_depth=15, min_child_weight=1; total time=   4.5s\n"
     ]
    },
    {
     "name": "stderr",
     "output_type": "stream",
     "text": [
      "C:\\Users\\rups1\\anaconda3\\lib\\site-packages\\xgboost\\data.py:250: FutureWarning: pandas.Int64Index is deprecated and will be removed from pandas in a future version. Use pandas.Index with the appropriate dtype instead.\n",
      "  elif isinstance(data.columns, (pd.Int64Index, pd.RangeIndex)):\n"
     ]
    },
    {
     "name": "stdout",
     "output_type": "stream",
     "text": [
      "[CV] END colsample_bytree=0.7, gamma=0.4, learning_rate=0.2, max_depth=15, min_child_weight=1; total time=   4.6s\n"
     ]
    },
    {
     "name": "stderr",
     "output_type": "stream",
     "text": [
      "C:\\Users\\rups1\\anaconda3\\lib\\site-packages\\xgboost\\data.py:250: FutureWarning: pandas.Int64Index is deprecated and will be removed from pandas in a future version. Use pandas.Index with the appropriate dtype instead.\n",
      "  elif isinstance(data.columns, (pd.Int64Index, pd.RangeIndex)):\n"
     ]
    },
    {
     "name": "stdout",
     "output_type": "stream",
     "text": [
      "[CV] END colsample_bytree=0.7, gamma=0.4, learning_rate=0.2, max_depth=15, min_child_weight=1; total time=   4.5s\n"
     ]
    },
    {
     "name": "stderr",
     "output_type": "stream",
     "text": [
      "C:\\Users\\rups1\\anaconda3\\lib\\site-packages\\xgboost\\data.py:250: FutureWarning: pandas.Int64Index is deprecated and will be removed from pandas in a future version. Use pandas.Index with the appropriate dtype instead.\n",
      "  elif isinstance(data.columns, (pd.Int64Index, pd.RangeIndex)):\n"
     ]
    },
    {
     "name": "stdout",
     "output_type": "stream",
     "text": [
      "[CV] END colsample_bytree=0.7, gamma=0.4, learning_rate=0.2, max_depth=15, min_child_weight=1; total time=   4.5s\n"
     ]
    },
    {
     "name": "stderr",
     "output_type": "stream",
     "text": [
      "C:\\Users\\rups1\\anaconda3\\lib\\site-packages\\xgboost\\data.py:250: FutureWarning: pandas.Int64Index is deprecated and will be removed from pandas in a future version. Use pandas.Index with the appropriate dtype instead.\n",
      "  elif isinstance(data.columns, (pd.Int64Index, pd.RangeIndex)):\n"
     ]
    },
    {
     "name": "stdout",
     "output_type": "stream",
     "text": [
      "[CV] END colsample_bytree=0.7, gamma=0.4, learning_rate=0.2, max_depth=15, min_child_weight=1; total time=   4.6s\n"
     ]
    },
    {
     "name": "stderr",
     "output_type": "stream",
     "text": [
      "C:\\Users\\rups1\\anaconda3\\lib\\site-packages\\xgboost\\data.py:250: FutureWarning: pandas.Int64Index is deprecated and will be removed from pandas in a future version. Use pandas.Index with the appropriate dtype instead.\n",
      "  elif isinstance(data.columns, (pd.Int64Index, pd.RangeIndex)):\n"
     ]
    },
    {
     "name": "stdout",
     "output_type": "stream",
     "text": [
      "[CV] END colsample_bytree=0.7, gamma=0.1, learning_rate=0.05, max_depth=10, min_child_weight=1; total time=   2.4s\n"
     ]
    },
    {
     "name": "stderr",
     "output_type": "stream",
     "text": [
      "C:\\Users\\rups1\\anaconda3\\lib\\site-packages\\xgboost\\data.py:250: FutureWarning: pandas.Int64Index is deprecated and will be removed from pandas in a future version. Use pandas.Index with the appropriate dtype instead.\n",
      "  elif isinstance(data.columns, (pd.Int64Index, pd.RangeIndex)):\n"
     ]
    },
    {
     "name": "stdout",
     "output_type": "stream",
     "text": [
      "[CV] END colsample_bytree=0.7, gamma=0.1, learning_rate=0.05, max_depth=10, min_child_weight=1; total time=   2.5s\n"
     ]
    },
    {
     "name": "stderr",
     "output_type": "stream",
     "text": [
      "C:\\Users\\rups1\\anaconda3\\lib\\site-packages\\xgboost\\data.py:250: FutureWarning: pandas.Int64Index is deprecated and will be removed from pandas in a future version. Use pandas.Index with the appropriate dtype instead.\n",
      "  elif isinstance(data.columns, (pd.Int64Index, pd.RangeIndex)):\n"
     ]
    },
    {
     "name": "stdout",
     "output_type": "stream",
     "text": [
      "[CV] END colsample_bytree=0.7, gamma=0.1, learning_rate=0.05, max_depth=10, min_child_weight=1; total time=   2.5s\n"
     ]
    },
    {
     "name": "stderr",
     "output_type": "stream",
     "text": [
      "C:\\Users\\rups1\\anaconda3\\lib\\site-packages\\xgboost\\data.py:250: FutureWarning: pandas.Int64Index is deprecated and will be removed from pandas in a future version. Use pandas.Index with the appropriate dtype instead.\n",
      "  elif isinstance(data.columns, (pd.Int64Index, pd.RangeIndex)):\n"
     ]
    },
    {
     "name": "stdout",
     "output_type": "stream",
     "text": [
      "[CV] END colsample_bytree=0.7, gamma=0.1, learning_rate=0.05, max_depth=10, min_child_weight=1; total time=   2.4s\n"
     ]
    },
    {
     "name": "stderr",
     "output_type": "stream",
     "text": [
      "C:\\Users\\rups1\\anaconda3\\lib\\site-packages\\xgboost\\data.py:250: FutureWarning: pandas.Int64Index is deprecated and will be removed from pandas in a future version. Use pandas.Index with the appropriate dtype instead.\n",
      "  elif isinstance(data.columns, (pd.Int64Index, pd.RangeIndex)):\n"
     ]
    },
    {
     "name": "stdout",
     "output_type": "stream",
     "text": [
      "[CV] END colsample_bytree=0.7, gamma=0.1, learning_rate=0.05, max_depth=10, min_child_weight=1; total time=   2.4s\n"
     ]
    },
    {
     "name": "stderr",
     "output_type": "stream",
     "text": [
      "C:\\Users\\rups1\\anaconda3\\lib\\site-packages\\xgboost\\data.py:250: FutureWarning: pandas.Int64Index is deprecated and will be removed from pandas in a future version. Use pandas.Index with the appropriate dtype instead.\n",
      "  elif isinstance(data.columns, (pd.Int64Index, pd.RangeIndex)):\n"
     ]
    },
    {
     "name": "stdout",
     "output_type": "stream",
     "text": [
      "[CV] END colsample_bytree=0.4, gamma=0.3, learning_rate=0.2, max_depth=4, min_child_weight=5; total time=   0.6s\n"
     ]
    },
    {
     "name": "stderr",
     "output_type": "stream",
     "text": [
      "C:\\Users\\rups1\\anaconda3\\lib\\site-packages\\xgboost\\data.py:250: FutureWarning: pandas.Int64Index is deprecated and will be removed from pandas in a future version. Use pandas.Index with the appropriate dtype instead.\n",
      "  elif isinstance(data.columns, (pd.Int64Index, pd.RangeIndex)):\n"
     ]
    },
    {
     "name": "stdout",
     "output_type": "stream",
     "text": [
      "[CV] END colsample_bytree=0.4, gamma=0.3, learning_rate=0.2, max_depth=4, min_child_weight=5; total time=   0.6s\n"
     ]
    },
    {
     "name": "stderr",
     "output_type": "stream",
     "text": [
      "C:\\Users\\rups1\\anaconda3\\lib\\site-packages\\xgboost\\data.py:250: FutureWarning: pandas.Int64Index is deprecated and will be removed from pandas in a future version. Use pandas.Index with the appropriate dtype instead.\n",
      "  elif isinstance(data.columns, (pd.Int64Index, pd.RangeIndex)):\n"
     ]
    },
    {
     "name": "stdout",
     "output_type": "stream",
     "text": [
      "[CV] END colsample_bytree=0.4, gamma=0.3, learning_rate=0.2, max_depth=4, min_child_weight=5; total time=   0.7s\n"
     ]
    },
    {
     "name": "stderr",
     "output_type": "stream",
     "text": [
      "C:\\Users\\rups1\\anaconda3\\lib\\site-packages\\xgboost\\data.py:250: FutureWarning: pandas.Int64Index is deprecated and will be removed from pandas in a future version. Use pandas.Index with the appropriate dtype instead.\n",
      "  elif isinstance(data.columns, (pd.Int64Index, pd.RangeIndex)):\n"
     ]
    },
    {
     "name": "stdout",
     "output_type": "stream",
     "text": [
      "[CV] END colsample_bytree=0.4, gamma=0.3, learning_rate=0.2, max_depth=4, min_child_weight=5; total time=   0.7s\n"
     ]
    },
    {
     "name": "stderr",
     "output_type": "stream",
     "text": [
      "C:\\Users\\rups1\\anaconda3\\lib\\site-packages\\xgboost\\data.py:250: FutureWarning: pandas.Int64Index is deprecated and will be removed from pandas in a future version. Use pandas.Index with the appropriate dtype instead.\n",
      "  elif isinstance(data.columns, (pd.Int64Index, pd.RangeIndex)):\n"
     ]
    },
    {
     "name": "stdout",
     "output_type": "stream",
     "text": [
      "[CV] END colsample_bytree=0.4, gamma=0.3, learning_rate=0.2, max_depth=4, min_child_weight=5; total time=   0.7s\n"
     ]
    },
    {
     "name": "stderr",
     "output_type": "stream",
     "text": [
      "C:\\Users\\rups1\\anaconda3\\lib\\site-packages\\xgboost\\data.py:250: FutureWarning: pandas.Int64Index is deprecated and will be removed from pandas in a future version. Use pandas.Index with the appropriate dtype instead.\n",
      "  elif isinstance(data.columns, (pd.Int64Index, pd.RangeIndex)):\n"
     ]
    },
    {
     "name": "stdout",
     "output_type": "stream",
     "text": [
      "[CV] END colsample_bytree=0.5, gamma=0.1, learning_rate=0.1, max_depth=12, min_child_weight=3; total time=   2.3s\n"
     ]
    },
    {
     "name": "stderr",
     "output_type": "stream",
     "text": [
      "C:\\Users\\rups1\\anaconda3\\lib\\site-packages\\xgboost\\data.py:250: FutureWarning: pandas.Int64Index is deprecated and will be removed from pandas in a future version. Use pandas.Index with the appropriate dtype instead.\n",
      "  elif isinstance(data.columns, (pd.Int64Index, pd.RangeIndex)):\n"
     ]
    },
    {
     "name": "stdout",
     "output_type": "stream",
     "text": [
      "[CV] END colsample_bytree=0.5, gamma=0.1, learning_rate=0.1, max_depth=12, min_child_weight=3; total time=   2.3s\n"
     ]
    },
    {
     "name": "stderr",
     "output_type": "stream",
     "text": [
      "C:\\Users\\rups1\\anaconda3\\lib\\site-packages\\xgboost\\data.py:250: FutureWarning: pandas.Int64Index is deprecated and will be removed from pandas in a future version. Use pandas.Index with the appropriate dtype instead.\n",
      "  elif isinstance(data.columns, (pd.Int64Index, pd.RangeIndex)):\n"
     ]
    },
    {
     "name": "stdout",
     "output_type": "stream",
     "text": [
      "[CV] END colsample_bytree=0.5, gamma=0.1, learning_rate=0.1, max_depth=12, min_child_weight=3; total time=   2.3s\n"
     ]
    },
    {
     "name": "stderr",
     "output_type": "stream",
     "text": [
      "C:\\Users\\rups1\\anaconda3\\lib\\site-packages\\xgboost\\data.py:250: FutureWarning: pandas.Int64Index is deprecated and will be removed from pandas in a future version. Use pandas.Index with the appropriate dtype instead.\n",
      "  elif isinstance(data.columns, (pd.Int64Index, pd.RangeIndex)):\n"
     ]
    },
    {
     "name": "stdout",
     "output_type": "stream",
     "text": [
      "[CV] END colsample_bytree=0.5, gamma=0.1, learning_rate=0.1, max_depth=12, min_child_weight=3; total time=   2.3s\n"
     ]
    },
    {
     "name": "stderr",
     "output_type": "stream",
     "text": [
      "C:\\Users\\rups1\\anaconda3\\lib\\site-packages\\xgboost\\data.py:250: FutureWarning: pandas.Int64Index is deprecated and will be removed from pandas in a future version. Use pandas.Index with the appropriate dtype instead.\n",
      "  elif isinstance(data.columns, (pd.Int64Index, pd.RangeIndex)):\n"
     ]
    },
    {
     "name": "stdout",
     "output_type": "stream",
     "text": [
      "[CV] END colsample_bytree=0.5, gamma=0.1, learning_rate=0.1, max_depth=12, min_child_weight=3; total time=   2.3s\n"
     ]
    },
    {
     "name": "stderr",
     "output_type": "stream",
     "text": [
      "C:\\Users\\rups1\\anaconda3\\lib\\site-packages\\xgboost\\data.py:250: FutureWarning: pandas.Int64Index is deprecated and will be removed from pandas in a future version. Use pandas.Index with the appropriate dtype instead.\n",
      "  elif isinstance(data.columns, (pd.Int64Index, pd.RangeIndex)):\n"
     ]
    },
    {
     "data": {
      "text/plain": [
       "RandomizedSearchCV(cv=5,\n",
       "                   estimator=XGBRegressor(base_score=0.5, booster='gbtree',\n",
       "                                          colsample_bylevel=1,\n",
       "                                          colsample_bynode=1,\n",
       "                                          colsample_bytree=1,\n",
       "                                          enable_categorical=False, gamma=0,\n",
       "                                          gpu_id=-1, importance_type=None,\n",
       "                                          interaction_constraints='',\n",
       "                                          learning_rate=0.300000012,\n",
       "                                          max_delta_step=0, max_depth=6,\n",
       "                                          min_child_weight=1, missing=nan,\n",
       "                                          monotone_constraints='()',\n",
       "                                          n_estimato...\n",
       "                                          reg_lambda=1, scale_pos_weight=1,\n",
       "                                          subsample=1, tree_method='exact',\n",
       "                                          validate_parameters=1,\n",
       "                                          verbosity=None),\n",
       "                   n_jobs=1,\n",
       "                   param_distributions={'colsample_bytree': [0.3, 0.4, 0.5,\n",
       "                                                             0.7],\n",
       "                                        'gamma': [0.0, 0.1, 0.2, 0.3, 0.4],\n",
       "                                        'learning_rate': [0.05, 0.1, 0.15, 0.2,\n",
       "                                                          0.25, 0.3],\n",
       "                                        'max_depth': [3, 4, 5, 6, 8, 10, 12,\n",
       "                                                      15],\n",
       "                                        'min_child_weight': [1, 3, 5, 7]},\n",
       "                   random_state=42, scoring='neg_mean_squared_error',\n",
       "                   verbose=2)"
      ]
     },
     "execution_count": 82,
     "metadata": {},
     "output_type": "execute_result"
    }
   ],
   "source": [
    "xgb_model_tuned.fit(X_train,y_train)"
   ]
  },
  {
   "cell_type": "code",
   "execution_count": 83,
   "id": "c18db013",
   "metadata": {},
   "outputs": [
    {
     "data": {
      "text/plain": [
       "{'min_child_weight': 1,\n",
       " 'max_depth': 15,\n",
       " 'learning_rate': 0.2,\n",
       " 'gamma': 0.4,\n",
       " 'colsample_bytree': 0.7}"
      ]
     },
     "execution_count": 83,
     "metadata": {},
     "output_type": "execute_result"
    }
   ],
   "source": [
    "xgb_model_tuned.best_params_"
   ]
  },
  {
   "cell_type": "code",
   "execution_count": 84,
   "id": "4a7a3d00",
   "metadata": {},
   "outputs": [],
   "source": [
    "prediction = xgb_model_tuned.predict(X_test)"
   ]
  },
  {
   "cell_type": "code",
   "execution_count": 85,
   "id": "1fc4ad49",
   "metadata": {},
   "outputs": [
    {
     "name": "stderr",
     "output_type": "stream",
     "text": [
      "C:\\Users\\rups1\\anaconda3\\lib\\site-packages\\seaborn\\distributions.py:2619: FutureWarning: `distplot` is a deprecated function and will be removed in a future version. Please adapt your code to use either `displot` (a figure-level function with similar flexibility) or `histplot` (an axes-level function for histograms).\n",
      "  warnings.warn(msg, FutureWarning)\n"
     ]
    },
    {
     "data": {
      "image/png": "[encoded data removed]",
      "text/plain": [
       "<Figure size 576x576 with 1 Axes>"
      ]
     },
     "metadata": {
      "needs_background": "light"
     },
     "output_type": "display_data"
    }
   ],
   "source": [
    "plt.figure(figsize = (8,8))\n",
    "sns.distplot(y_test-prediction)\n",
    "plt.show()"
   ]
  },
  {
   "cell_type": "code",
   "execution_count": 86,
   "id": "950aaa56",
   "metadata": {},
   "outputs": [
    {
     "data": {
      "image/png": "[encoded data removed]",
      "text/plain": [
       "<Figure size 576x576 with 1 Axes>"
      ]
     },
     "metadata": {
      "needs_background": "light"
     },
     "output_type": "display_data"
    }
   ],
   "source": [
    "plt.figure(figsize = (8,8))\n",
    "plt.scatter(y_test, prediction, alpha = 0.5)\n",
    "plt.xlabel(\"y_test\")\n",
    "plt.ylabel(\"y_pred\")\n",
    "plt.show()"
   ]
  },
  {
   "cell_type": "code",
   "execution_count": 87,
   "id": "2656bc39",
   "metadata": {},
   "outputs": [
    {
     "name": "stdout",
     "output_type": "stream",
     "text": [
      "MAE: 15.375263028677855\n",
      "MSE: 525.3380904693848\n",
      "RMSE: 22.920255026272827\n"
     ]
    }
   ],
   "source": [
    "# MAE: 1135.7739136142043\n",
    "# MSE: 3313395.5274770306\n",
    "# RMSE: 1820.2734760131596\n",
    "\n",
    "print('MAE:', metrics.mean_absolute_error(y_test, prediction))\n",
    "print('MSE:', metrics.mean_squared_error(y_test, prediction))\n",
    "print('RMSE:', np.sqrt(metrics.mean_squared_error(y_test, prediction)))"
   ]
  },
  {
   "cell_type": "code",
   "execution_count": 88,
   "id": "d0dad446",
   "metadata": {},
   "outputs": [
    {
     "data": {
      "text/plain": [
       "0.8603343161959845"
      ]
     },
     "execution_count": 88,
     "metadata": {},
     "output_type": "execute_result"
    }
   ],
   "source": [
    "metrics.r2_score(y_test, prediction)"
   ]
  },
  {
   "cell_type": "code",
   "execution_count": 104,
   "id": "99f6d728",
   "metadata": {},
   "outputs": [],
   "source": [
    "import pickle\n",
    "# open a file, where you ant to store the data\n",
    "file = open('xgbboost_rf.pkl', 'wb') # wb is write and binary mode\n",
    "\n",
    "# dump information to that file\n",
    "pickle.dump(xgb_model_tuned, file)"
   ]
  },
  {
   "cell_type": "code",
   "execution_count": 105,
   "id": "5103a9a4",
   "metadata": {},
   "outputs": [],
   "source": [
    "model = open('xgbboost_rf.pkl','rb')\n",
    "xgboost = pickle.load(model)"
   ]
  },
  {
   "cell_type": "code",
   "execution_count": 106,
   "id": "48d021e4",
   "metadata": {},
   "outputs": [],
   "source": [
    "y_prediction = xgboost.predict(X_test)"
   ]
  },
  {
   "cell_type": "code",
   "execution_count": 107,
   "id": "561069e3",
   "metadata": {},
   "outputs": [
    {
     "data": {
      "text/plain": [
       "0.8603343161959845"
      ]
     },
     "execution_count": 107,
     "metadata": {},
     "output_type": "execute_result"
    }
   ],
   "source": [
    "metrics.r2_score(y_test, y_prediction)"
   ]
  },
  {
   "cell_type": "code",
   "execution_count": 74,
   "id": "5c16eb15",
   "metadata": {},
   "outputs": [],
   "source": [
    "################### EXPERIMENT FOR RANDOM FOREST #############"
   ]
  },
  {
   "cell_type": "code",
   "execution_count": 76,
   "id": "e7bb21f3",
   "metadata": {},
   "outputs": [
    {
     "data": {
      "text/plain": [
       "RandomForestRegressor()"
      ]
     },
     "execution_count": 76,
     "metadata": {},
     "output_type": "execute_result"
    }
   ],
   "source": [
    "from sklearn.ensemble import RandomForestRegressor\n",
    "reg_rf = RandomForestRegressor()\n",
    "reg_rf.fit(X_train, y_train)"
   ]
  },
  {
   "cell_type": "code",
   "execution_count": 77,
   "id": "32fecce3",
   "metadata": {},
   "outputs": [],
   "source": [
    "y_pred = reg_rf.predict(X_test)"
   ]
  },
  {
   "cell_type": "code",
   "execution_count": 78,
   "id": "9941e234",
   "metadata": {},
   "outputs": [
    {
     "data": {
      "text/plain": [
       "0.9570213802964046"
      ]
     },
     "execution_count": 78,
     "metadata": {},
     "output_type": "execute_result"
    }
   ],
   "source": [
    "reg_rf.score(X_train, y_train)"
   ]
  },
  {
   "cell_type": "code",
   "execution_count": 87,
   "id": "084af245",
   "metadata": {},
   "outputs": [
    {
     "data": {
      "text/plain": [
       "0.8386471121259268"
      ]
     },
     "execution_count": 87,
     "metadata": {},
     "output_type": "execute_result"
    }
   ],
   "source": [
    "reg_rf.score(X_test, y_test)"
   ]
  },
  {
   "cell_type": "code",
   "execution_count": 95,
   "id": "726f481c",
   "metadata": {},
   "outputs": [],
   "source": [
    "import pickle\n",
    "# open a file, where you ant to store the data\n",
    "file = open('flight1_rf.pkl', 'wb')\n",
    "\n",
    "# dump information to that file\n",
    "pickle.dump(reg_rf, file)"
   ]
  },
  {
   "cell_type": "code",
   "execution_count": 96,
   "id": "fead151c",
   "metadata": {},
   "outputs": [],
   "source": [
    "model = open('flight1_rf.pkl','rb')\n",
    "forest = pickle.load (model)"
   ]
  },
  {
   "cell_type": "code",
   "execution_count": 82,
   "id": "ee9fc7bd",
   "metadata": {},
   "outputs": [],
   "source": [
    "y_prediction = forest.predict(X_test)"
   ]
  },
  {
   "cell_type": "code",
   "execution_count": 91,
   "id": "9eb46e86",
   "metadata": {},
   "outputs": [
    {
     "data": {
      "text/plain": [
       "0.11884734049428525"
      ]
     },
     "execution_count": 91,
     "metadata": {},
     "output_type": "execute_result"
    }
   ],
   "source": [
    "metrics.r2_score(y_test, y_prediction)"
   ]
  },
  {
   "cell_type": "code",
   "execution_count": null,
   "id": "10f538e0",
   "metadata": {},
   "outputs": [],
   "source": [
    "print('MAE:', metrics.mean_absolute_error(y_test, y_pred))\n",
    "print('MSE:', metrics.mean_squared_error(y_test, y_pred))\n",
    "print('RMSE:', np.sqrt(metrics.mean_squared_error(y_test, y_pred)))"
   ]
  },
  {
   "cell_type": "code",
   "execution_count": null,
   "id": "2e831c0a",
   "metadata": {},
   "outputs": [],
   "source": []
  }
 ],
 "metadata": {
  "kernelspec": {
   "display_name": "Python 3 (ipykernel)",
   "language": "python",
   "name": "python3"
  },
  "language_info": {
   "codemirror_mode": {
    "name": "ipython",
    "version": 3
   },
   "file_extension": ".py",
   "mimetype": "text/x-python",
   "name": "python",
   "nbconvert_exporter": "python",
   "pygments_lexer": "ipython3",
   "version": "3.9.12"
  }
 },
 "nbformat": 4,
 "nbformat_minor": 5
}
